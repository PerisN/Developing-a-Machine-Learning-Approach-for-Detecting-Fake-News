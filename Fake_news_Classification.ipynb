{
  "cells": [
    {
      "cell_type": "markdown",
      "source": [
        "# **Fake News Prediction**"
      ],
      "metadata": {
        "id": "_Mi6sXein1O3"
      },
      "id": "_Mi6sXein1O3"
    },
    {
      "cell_type": "code",
      "execution_count": null,
      "metadata": {
        "id": "ie7UxNpnCRjR"
      },
      "outputs": [],
      "source": [
        "#pip install opendatasets --upgrade"
      ],
      "id": "ie7UxNpnCRjR"
    },
    {
      "cell_type": "code",
      "source": [
        "#pip install parfit==0.220"
      ],
      "metadata": {
        "id": "_vf7A6Ua2xgL"
      },
      "id": "_vf7A6Ua2xgL",
      "execution_count": null,
      "outputs": []
    },
    {
      "cell_type": "code",
      "execution_count": null,
      "metadata": {
        "id": "0bb6e1d6"
      },
      "outputs": [],
      "source": [
        "# Import Libraries\n",
        "\n",
        "import pandas as pd\n",
        "import numpy as np\n",
        "import re\n",
        "import string\n",
        "import nltk\n",
        "nltk.download('stopwords')\n",
        "nltk.download('punkt')\n",
        "nltk.download('wordnet')\n",
        "nltk.download('omw-1.4')\n",
        "from nltk.corpus import stopwords\n",
        "from nltk.tokenize import word_tokenize\n",
        "from nltk.stem import WordNetLemmatizer\n",
        "from sklearn.feature_extraction.text import TfidfVectorizer \n",
        "from sklearn.model_selection import train_test_split\n",
        "from sklearn import model_selection\n",
        "from sklearn.model_selection import RepeatedStratifiedKFold, StratifiedKFold\n",
        "import parfit.parfit as pf\n",
        "from sklearn.model_selection import ParameterGrid\n",
        "from sklearn.linear_model import LogisticRegression\n",
        "from sklearn.ensemble import RandomForestClassifier\n",
        "from sklearn.ensemble import GradientBoostingClassifier\n",
        "import xgboost as xgb\n",
        "from xgboost import XGBClassifier\n",
        "from sklearn.svm import LinearSVC\n",
        "from sklearn.linear_model import RidgeClassifier\n",
        "from sklearn.linear_model import SGDClassifier\n",
        "from sklearn.tree import DecisionTreeClassifier\n",
        "from sklearn.model_selection import cross_val_predict\n",
        "from sklearn.metrics import f1_score\n",
        "from sklearn.model_selection import cross_val_score\n",
        "from sklearn.metrics import accuracy_score\n",
        "from sklearn.metrics import roc_auc_score\n",
        "from sklearn.metrics import roc_curve\n",
        "from sklearn.metrics import classification_report, confusion_matrix, ConfusionMatrixDisplay\n",
        "import matplotlib.pyplot as plt\n",
        "%matplotlib inline\n",
        "import seaborn as sns\n",
        "colors = ['firebrick', 'tomato']\n",
        "import plotly.express as px\n",
        "from sklearn.manifold import TSNE\n",
        "import warnings\n",
        "warnings.filterwarnings('ignore')"
      ],
      "id": "0bb6e1d6"
    },
    {
      "cell_type": "markdown",
      "source": [
        "##### Loading Data"
      ],
      "metadata": {
        "id": "mMrPHVI9zBjK"
      },
      "id": "mMrPHVI9zBjK"
    },
    {
      "cell_type": "code",
      "execution_count": null,
      "metadata": {
        "id": "KUGaxfsepxOl"
      },
      "outputs": [],
      "source": [
        "import opendatasets as od\n",
        "\n",
        "od.download(\"https://www.kaggle.com/competitions/fake-news/data\")"
      ],
      "id": "KUGaxfsepxOl"
    },
    {
      "cell_type": "code",
      "execution_count": 5,
      "metadata": {
        "id": "lcKXGV39qxqP"
      },
      "outputs": [],
      "source": [
        "import os\n",
        "dir = \"./fake-news\"\n",
        "os.listdir(dir)\n",
        "\n",
        "train_dir = dir + \"/train.csv\"\n",
        "test_dir = dir + \"/test.csv\""
      ],
      "id": "lcKXGV39qxqP"
    },
    {
      "cell_type": "code",
      "execution_count": 6,
      "metadata": {
        "id": "hfW-X2GWsY4Q"
      },
      "outputs": [],
      "source": [
        "train = pd.read_csv(train_dir)\n",
        "test = pd.read_csv(test_dir)"
      ],
      "id": "hfW-X2GWsY4Q"
    },
    {
      "cell_type": "markdown",
      "source": [
        "### **Understanding the data**"
      ],
      "metadata": {
        "id": "qy7_RScdcEuH"
      },
      "id": "qy7_RScdcEuH"
    },
    {
      "cell_type": "code",
      "execution_count": 7,
      "metadata": {
        "id": "F0gwu0VmFJYM",
        "colab": {
          "base_uri": "https://localhost:8080/"
        },
        "outputId": "1705dbe3-7041-4280-d87b-0fc514cf73f7"
      },
      "outputs": [
        {
          "output_type": "stream",
          "name": "stdout",
          "text": [
            "Size of train set:  (20800, 5)\n",
            "Size of test set:  (5200, 4)\n"
          ]
        }
      ],
      "source": [
        "# Check the shape of the train and test sets\n",
        "\n",
        "print(\"Size of train set: \", train.shape)\n",
        "print(\"Size of test set: \", test.shape)"
      ],
      "id": "F0gwu0VmFJYM"
    },
    {
      "cell_type": "code",
      "execution_count": 8,
      "metadata": {
        "id": "1e29d5cb",
        "colab": {
          "base_uri": "https://localhost:8080/",
          "height": 337
        },
        "outputId": "0413013d-e1cd-4da6-ee7a-00d1f7d7ea86"
      },
      "outputs": [
        {
          "output_type": "execute_result",
          "data": {
            "text/plain": [
              "   id                                              title              author  \\\n",
              "0   0  House Dem Aide: We Didn’t Even See Comey’s Let...       Darrell Lucus   \n",
              "1   1  FLYNN: Hillary Clinton, Big Woman on Campus - ...     Daniel J. Flynn   \n",
              "2   2                  Why the Truth Might Get You Fired  Consortiumnews.com   \n",
              "3   3  15 Civilians Killed In Single US Airstrike Hav...     Jessica Purkiss   \n",
              "4   4  Iranian woman jailed for fictional unpublished...      Howard Portnoy   \n",
              "\n",
              "                                                text  label  \n",
              "0  House Dem Aide: We Didn’t Even See Comey’s Let...      1  \n",
              "1  Ever get the feeling your life circles the rou...      0  \n",
              "2  Why the Truth Might Get You Fired October 29, ...      1  \n",
              "3  Videos 15 Civilians Killed In Single US Airstr...      1  \n",
              "4  Print \\nAn Iranian woman has been sentenced to...      1  "
            ],
            "text/html": [
              "\n",
              "  <div id=\"df-eff6a593-2350-4d23-9ef5-1d4ba16aede9\">\n",
              "    <div class=\"colab-df-container\">\n",
              "      <div>\n",
              "<style scoped>\n",
              "    .dataframe tbody tr th:only-of-type {\n",
              "        vertical-align: middle;\n",
              "    }\n",
              "\n",
              "    .dataframe tbody tr th {\n",
              "        vertical-align: top;\n",
              "    }\n",
              "\n",
              "    .dataframe thead th {\n",
              "        text-align: right;\n",
              "    }\n",
              "</style>\n",
              "<table border=\"1\" class=\"dataframe\">\n",
              "  <thead>\n",
              "    <tr style=\"text-align: right;\">\n",
              "      <th></th>\n",
              "      <th>id</th>\n",
              "      <th>title</th>\n",
              "      <th>author</th>\n",
              "      <th>text</th>\n",
              "      <th>label</th>\n",
              "    </tr>\n",
              "  </thead>\n",
              "  <tbody>\n",
              "    <tr>\n",
              "      <th>0</th>\n",
              "      <td>0</td>\n",
              "      <td>House Dem Aide: We Didn’t Even See Comey’s Let...</td>\n",
              "      <td>Darrell Lucus</td>\n",
              "      <td>House Dem Aide: We Didn’t Even See Comey’s Let...</td>\n",
              "      <td>1</td>\n",
              "    </tr>\n",
              "    <tr>\n",
              "      <th>1</th>\n",
              "      <td>1</td>\n",
              "      <td>FLYNN: Hillary Clinton, Big Woman on Campus - ...</td>\n",
              "      <td>Daniel J. Flynn</td>\n",
              "      <td>Ever get the feeling your life circles the rou...</td>\n",
              "      <td>0</td>\n",
              "    </tr>\n",
              "    <tr>\n",
              "      <th>2</th>\n",
              "      <td>2</td>\n",
              "      <td>Why the Truth Might Get You Fired</td>\n",
              "      <td>Consortiumnews.com</td>\n",
              "      <td>Why the Truth Might Get You Fired October 29, ...</td>\n",
              "      <td>1</td>\n",
              "    </tr>\n",
              "    <tr>\n",
              "      <th>3</th>\n",
              "      <td>3</td>\n",
              "      <td>15 Civilians Killed In Single US Airstrike Hav...</td>\n",
              "      <td>Jessica Purkiss</td>\n",
              "      <td>Videos 15 Civilians Killed In Single US Airstr...</td>\n",
              "      <td>1</td>\n",
              "    </tr>\n",
              "    <tr>\n",
              "      <th>4</th>\n",
              "      <td>4</td>\n",
              "      <td>Iranian woman jailed for fictional unpublished...</td>\n",
              "      <td>Howard Portnoy</td>\n",
              "      <td>Print \\nAn Iranian woman has been sentenced to...</td>\n",
              "      <td>1</td>\n",
              "    </tr>\n",
              "  </tbody>\n",
              "</table>\n",
              "</div>\n",
              "      <button class=\"colab-df-convert\" onclick=\"convertToInteractive('df-eff6a593-2350-4d23-9ef5-1d4ba16aede9')\"\n",
              "              title=\"Convert this dataframe to an interactive table.\"\n",
              "              style=\"display:none;\">\n",
              "        \n",
              "  <svg xmlns=\"http://www.w3.org/2000/svg\" height=\"24px\"viewBox=\"0 0 24 24\"\n",
              "       width=\"24px\">\n",
              "    <path d=\"M0 0h24v24H0V0z\" fill=\"none\"/>\n",
              "    <path d=\"M18.56 5.44l.94 2.06.94-2.06 2.06-.94-2.06-.94-.94-2.06-.94 2.06-2.06.94zm-11 1L8.5 8.5l.94-2.06 2.06-.94-2.06-.94L8.5 2.5l-.94 2.06-2.06.94zm10 10l.94 2.06.94-2.06 2.06-.94-2.06-.94-.94-2.06-.94 2.06-2.06.94z\"/><path d=\"M17.41 7.96l-1.37-1.37c-.4-.4-.92-.59-1.43-.59-.52 0-1.04.2-1.43.59L10.3 9.45l-7.72 7.72c-.78.78-.78 2.05 0 2.83L4 21.41c.39.39.9.59 1.41.59.51 0 1.02-.2 1.41-.59l7.78-7.78 2.81-2.81c.8-.78.8-2.07 0-2.86zM5.41 20L4 18.59l7.72-7.72 1.47 1.35L5.41 20z\"/>\n",
              "  </svg>\n",
              "      </button>\n",
              "      \n",
              "  <style>\n",
              "    .colab-df-container {\n",
              "      display:flex;\n",
              "      flex-wrap:wrap;\n",
              "      gap: 12px;\n",
              "    }\n",
              "\n",
              "    .colab-df-convert {\n",
              "      background-color: #E8F0FE;\n",
              "      border: none;\n",
              "      border-radius: 50%;\n",
              "      cursor: pointer;\n",
              "      display: none;\n",
              "      fill: #1967D2;\n",
              "      height: 32px;\n",
              "      padding: 0 0 0 0;\n",
              "      width: 32px;\n",
              "    }\n",
              "\n",
              "    .colab-df-convert:hover {\n",
              "      background-color: #E2EBFA;\n",
              "      box-shadow: 0px 1px 2px rgba(60, 64, 67, 0.3), 0px 1px 3px 1px rgba(60, 64, 67, 0.15);\n",
              "      fill: #174EA6;\n",
              "    }\n",
              "\n",
              "    [theme=dark] .colab-df-convert {\n",
              "      background-color: #3B4455;\n",
              "      fill: #D2E3FC;\n",
              "    }\n",
              "\n",
              "    [theme=dark] .colab-df-convert:hover {\n",
              "      background-color: #434B5C;\n",
              "      box-shadow: 0px 1px 3px 1px rgba(0, 0, 0, 0.15);\n",
              "      filter: drop-shadow(0px 1px 2px rgba(0, 0, 0, 0.3));\n",
              "      fill: #FFFFFF;\n",
              "    }\n",
              "  </style>\n",
              "\n",
              "      <script>\n",
              "        const buttonEl =\n",
              "          document.querySelector('#df-eff6a593-2350-4d23-9ef5-1d4ba16aede9 button.colab-df-convert');\n",
              "        buttonEl.style.display =\n",
              "          google.colab.kernel.accessAllowed ? 'block' : 'none';\n",
              "\n",
              "        async function convertToInteractive(key) {\n",
              "          const element = document.querySelector('#df-eff6a593-2350-4d23-9ef5-1d4ba16aede9');\n",
              "          const dataTable =\n",
              "            await google.colab.kernel.invokeFunction('convertToInteractive',\n",
              "                                                     [key], {});\n",
              "          if (!dataTable) return;\n",
              "\n",
              "          const docLinkHtml = 'Like what you see? Visit the ' +\n",
              "            '<a target=\"_blank\" href=https://colab.research.google.com/notebooks/data_table.ipynb>data table notebook</a>'\n",
              "            + ' to learn more about interactive tables.';\n",
              "          element.innerHTML = '';\n",
              "          dataTable['output_type'] = 'display_data';\n",
              "          await google.colab.output.renderOutput(dataTable, element);\n",
              "          const docLink = document.createElement('div');\n",
              "          docLink.innerHTML = docLinkHtml;\n",
              "          element.appendChild(docLink);\n",
              "        }\n",
              "      </script>\n",
              "    </div>\n",
              "  </div>\n",
              "  "
            ]
          },
          "metadata": {},
          "execution_count": 8
        }
      ],
      "source": [
        "# Print the first 5 rows\n",
        "\n",
        "train.head()"
      ],
      "id": "1e29d5cb"
    },
    {
      "cell_type": "code",
      "execution_count": 9,
      "metadata": {
        "id": "-0gQBz14Ezkl",
        "colab": {
          "base_uri": "https://localhost:8080/"
        },
        "outputId": "82bda70e-3b81-4a67-8880-3732abb5ecf0"
      },
      "outputs": [
        {
          "output_type": "stream",
          "name": "stdout",
          "text": [
            "<class 'pandas.core.frame.DataFrame'>\n",
            "RangeIndex: 20800 entries, 0 to 20799\n",
            "Data columns (total 5 columns):\n",
            " #   Column  Non-Null Count  Dtype \n",
            "---  ------  --------------  ----- \n",
            " 0   id      20800 non-null  int64 \n",
            " 1   title   20242 non-null  object\n",
            " 2   author  18843 non-null  object\n",
            " 3   text    20761 non-null  object\n",
            " 4   label   20800 non-null  int64 \n",
            "dtypes: int64(2), object(3)\n",
            "memory usage: 812.6+ KB\n"
          ]
        }
      ],
      "source": [
        "# Data description\n",
        "\n",
        "train.info()"
      ],
      "id": "-0gQBz14Ezkl"
    },
    {
      "cell_type": "code",
      "execution_count": 10,
      "metadata": {
        "id": "909cd3c4",
        "colab": {
          "base_uri": "https://localhost:8080/",
          "height": 337
        },
        "outputId": "2da13f0a-6b96-45ba-e6b1-1b24a25d3a4a"
      },
      "outputs": [
        {
          "output_type": "execute_result",
          "data": {
            "text/plain": [
              "      id                                              title  \\\n",
              "0  20800  Specter of Trump Loosens Tongues, if Not Purse...   \n",
              "1  20801  Russian warships ready to strike terrorists ne...   \n",
              "2  20802  #NoDAPL: Native American Leaders Vow to Stay A...   \n",
              "3  20803  Tim Tebow Will Attempt Another Comeback, This ...   \n",
              "4  20804                    Keiser Report: Meme Wars (E995)   \n",
              "\n",
              "                    author                                               text  \n",
              "0         David Streitfeld  PALO ALTO, Calif.  —   After years of scorning...  \n",
              "1                      NaN  Russian warships ready to strike terrorists ne...  \n",
              "2            Common Dreams  Videos #NoDAPL: Native American Leaders Vow to...  \n",
              "3            Daniel Victor  If at first you don’t succeed, try a different...  \n",
              "4  Truth Broadcast Network  42 mins ago 1 Views 0 Comments 0 Likes 'For th...  "
            ],
            "text/html": [
              "\n",
              "  <div id=\"df-3b1d1322-4392-43ce-890f-c1f00e3cd824\">\n",
              "    <div class=\"colab-df-container\">\n",
              "      <div>\n",
              "<style scoped>\n",
              "    .dataframe tbody tr th:only-of-type {\n",
              "        vertical-align: middle;\n",
              "    }\n",
              "\n",
              "    .dataframe tbody tr th {\n",
              "        vertical-align: top;\n",
              "    }\n",
              "\n",
              "    .dataframe thead th {\n",
              "        text-align: right;\n",
              "    }\n",
              "</style>\n",
              "<table border=\"1\" class=\"dataframe\">\n",
              "  <thead>\n",
              "    <tr style=\"text-align: right;\">\n",
              "      <th></th>\n",
              "      <th>id</th>\n",
              "      <th>title</th>\n",
              "      <th>author</th>\n",
              "      <th>text</th>\n",
              "    </tr>\n",
              "  </thead>\n",
              "  <tbody>\n",
              "    <tr>\n",
              "      <th>0</th>\n",
              "      <td>20800</td>\n",
              "      <td>Specter of Trump Loosens Tongues, if Not Purse...</td>\n",
              "      <td>David Streitfeld</td>\n",
              "      <td>PALO ALTO, Calif.  —   After years of scorning...</td>\n",
              "    </tr>\n",
              "    <tr>\n",
              "      <th>1</th>\n",
              "      <td>20801</td>\n",
              "      <td>Russian warships ready to strike terrorists ne...</td>\n",
              "      <td>NaN</td>\n",
              "      <td>Russian warships ready to strike terrorists ne...</td>\n",
              "    </tr>\n",
              "    <tr>\n",
              "      <th>2</th>\n",
              "      <td>20802</td>\n",
              "      <td>#NoDAPL: Native American Leaders Vow to Stay A...</td>\n",
              "      <td>Common Dreams</td>\n",
              "      <td>Videos #NoDAPL: Native American Leaders Vow to...</td>\n",
              "    </tr>\n",
              "    <tr>\n",
              "      <th>3</th>\n",
              "      <td>20803</td>\n",
              "      <td>Tim Tebow Will Attempt Another Comeback, This ...</td>\n",
              "      <td>Daniel Victor</td>\n",
              "      <td>If at first you don’t succeed, try a different...</td>\n",
              "    </tr>\n",
              "    <tr>\n",
              "      <th>4</th>\n",
              "      <td>20804</td>\n",
              "      <td>Keiser Report: Meme Wars (E995)</td>\n",
              "      <td>Truth Broadcast Network</td>\n",
              "      <td>42 mins ago 1 Views 0 Comments 0 Likes 'For th...</td>\n",
              "    </tr>\n",
              "  </tbody>\n",
              "</table>\n",
              "</div>\n",
              "      <button class=\"colab-df-convert\" onclick=\"convertToInteractive('df-3b1d1322-4392-43ce-890f-c1f00e3cd824')\"\n",
              "              title=\"Convert this dataframe to an interactive table.\"\n",
              "              style=\"display:none;\">\n",
              "        \n",
              "  <svg xmlns=\"http://www.w3.org/2000/svg\" height=\"24px\"viewBox=\"0 0 24 24\"\n",
              "       width=\"24px\">\n",
              "    <path d=\"M0 0h24v24H0V0z\" fill=\"none\"/>\n",
              "    <path d=\"M18.56 5.44l.94 2.06.94-2.06 2.06-.94-2.06-.94-.94-2.06-.94 2.06-2.06.94zm-11 1L8.5 8.5l.94-2.06 2.06-.94-2.06-.94L8.5 2.5l-.94 2.06-2.06.94zm10 10l.94 2.06.94-2.06 2.06-.94-2.06-.94-.94-2.06-.94 2.06-2.06.94z\"/><path d=\"M17.41 7.96l-1.37-1.37c-.4-.4-.92-.59-1.43-.59-.52 0-1.04.2-1.43.59L10.3 9.45l-7.72 7.72c-.78.78-.78 2.05 0 2.83L4 21.41c.39.39.9.59 1.41.59.51 0 1.02-.2 1.41-.59l7.78-7.78 2.81-2.81c.8-.78.8-2.07 0-2.86zM5.41 20L4 18.59l7.72-7.72 1.47 1.35L5.41 20z\"/>\n",
              "  </svg>\n",
              "      </button>\n",
              "      \n",
              "  <style>\n",
              "    .colab-df-container {\n",
              "      display:flex;\n",
              "      flex-wrap:wrap;\n",
              "      gap: 12px;\n",
              "    }\n",
              "\n",
              "    .colab-df-convert {\n",
              "      background-color: #E8F0FE;\n",
              "      border: none;\n",
              "      border-radius: 50%;\n",
              "      cursor: pointer;\n",
              "      display: none;\n",
              "      fill: #1967D2;\n",
              "      height: 32px;\n",
              "      padding: 0 0 0 0;\n",
              "      width: 32px;\n",
              "    }\n",
              "\n",
              "    .colab-df-convert:hover {\n",
              "      background-color: #E2EBFA;\n",
              "      box-shadow: 0px 1px 2px rgba(60, 64, 67, 0.3), 0px 1px 3px 1px rgba(60, 64, 67, 0.15);\n",
              "      fill: #174EA6;\n",
              "    }\n",
              "\n",
              "    [theme=dark] .colab-df-convert {\n",
              "      background-color: #3B4455;\n",
              "      fill: #D2E3FC;\n",
              "    }\n",
              "\n",
              "    [theme=dark] .colab-df-convert:hover {\n",
              "      background-color: #434B5C;\n",
              "      box-shadow: 0px 1px 3px 1px rgba(0, 0, 0, 0.15);\n",
              "      filter: drop-shadow(0px 1px 2px rgba(0, 0, 0, 0.3));\n",
              "      fill: #FFFFFF;\n",
              "    }\n",
              "  </style>\n",
              "\n",
              "      <script>\n",
              "        const buttonEl =\n",
              "          document.querySelector('#df-3b1d1322-4392-43ce-890f-c1f00e3cd824 button.colab-df-convert');\n",
              "        buttonEl.style.display =\n",
              "          google.colab.kernel.accessAllowed ? 'block' : 'none';\n",
              "\n",
              "        async function convertToInteractive(key) {\n",
              "          const element = document.querySelector('#df-3b1d1322-4392-43ce-890f-c1f00e3cd824');\n",
              "          const dataTable =\n",
              "            await google.colab.kernel.invokeFunction('convertToInteractive',\n",
              "                                                     [key], {});\n",
              "          if (!dataTable) return;\n",
              "\n",
              "          const docLinkHtml = 'Like what you see? Visit the ' +\n",
              "            '<a target=\"_blank\" href=https://colab.research.google.com/notebooks/data_table.ipynb>data table notebook</a>'\n",
              "            + ' to learn more about interactive tables.';\n",
              "          element.innerHTML = '';\n",
              "          dataTable['output_type'] = 'display_data';\n",
              "          await google.colab.output.renderOutput(dataTable, element);\n",
              "          const docLink = document.createElement('div');\n",
              "          docLink.innerHTML = docLinkHtml;\n",
              "          element.appendChild(docLink);\n",
              "        }\n",
              "      </script>\n",
              "    </div>\n",
              "  </div>\n",
              "  "
            ]
          },
          "metadata": {},
          "execution_count": 10
        }
      ],
      "source": [
        "test.head()"
      ],
      "id": "909cd3c4"
    },
    {
      "cell_type": "code",
      "execution_count": 11,
      "metadata": {
        "id": "FU7X67eTGUOM",
        "colab": {
          "base_uri": "https://localhost:8080/"
        },
        "outputId": "572535e6-727a-48bd-fd5a-c7f6f5bea3d6"
      },
      "outputs": [
        {
          "output_type": "stream",
          "name": "stdout",
          "text": [
            "<class 'pandas.core.frame.DataFrame'>\n",
            "RangeIndex: 5200 entries, 0 to 5199\n",
            "Data columns (total 4 columns):\n",
            " #   Column  Non-Null Count  Dtype \n",
            "---  ------  --------------  ----- \n",
            " 0   id      5200 non-null   int64 \n",
            " 1   title   5078 non-null   object\n",
            " 2   author  4697 non-null   object\n",
            " 3   text    5193 non-null   object\n",
            "dtypes: int64(1), object(3)\n",
            "memory usage: 162.6+ KB\n"
          ]
        }
      ],
      "source": [
        "test.info()"
      ],
      "id": "FU7X67eTGUOM"
    },
    {
      "cell_type": "code",
      "source": [
        "# Target variable distribution\n",
        "\n",
        "train.label.value_counts()"
      ],
      "metadata": {
        "colab": {
          "base_uri": "https://localhost:8080/"
        },
        "id": "z3bY7FP0YPY7",
        "outputId": "21146507-7c94-4c1b-82a6-67e88ef3073c"
      },
      "id": "z3bY7FP0YPY7",
      "execution_count": 12,
      "outputs": [
        {
          "output_type": "execute_result",
          "data": {
            "text/plain": [
              "1    10413\n",
              "0    10387\n",
              "Name: label, dtype: int64"
            ]
          },
          "metadata": {},
          "execution_count": 12
        }
      ]
    },
    {
      "cell_type": "code",
      "source": [
        "# Visualizing the target distribution\n",
        "\n",
        "sns.countplot(train['label'], palette=colors);"
      ],
      "metadata": {
        "colab": {
          "base_uri": "https://localhost:8080/",
          "height": 279
        },
        "id": "S6ytmYhtYqFQ",
        "outputId": "763e8bad-225d-4478-fb45-779e4034efe2"
      },
      "id": "S6ytmYhtYqFQ",
      "execution_count": 13,
      "outputs": [
        {
          "output_type": "display_data",
          "data": {
            "text/plain": [
              "<Figure size 432x288 with 1 Axes>"
            ],
            "image/png": "[encoded data removed]"
          },
          "metadata": {
            "needs_background": "light"
          }
        }
      ]
    },
    {
      "cell_type": "markdown",
      "source": [
        "The target variable is fairly balanced"
      ],
      "metadata": {
        "id": "z3NpoHsQYycv"
      },
      "id": "z3NpoHsQYycv"
    },
    {
      "cell_type": "markdown",
      "metadata": {
        "id": "dYh3PhxJI4HS"
      },
      "source": [
        "### **Data Cleaning**"
      ],
      "id": "dYh3PhxJI4HS"
    },
    {
      "cell_type": "code",
      "execution_count": 14,
      "metadata": {
        "id": "8fd6cf67",
        "colab": {
          "base_uri": "https://localhost:8080/"
        },
        "outputId": "5b51f246-c104-481d-fad3-f36989791677"
      },
      "outputs": [
        {
          "output_type": "execute_result",
          "data": {
            "text/plain": [
              "id           0\n",
              "title      558\n",
              "author    1957\n",
              "text        39\n",
              "label        0\n",
              "dtype: int64"
            ]
          },
          "metadata": {},
          "execution_count": 14
        }
      ],
      "source": [
        "# Checking null instances\n",
        "\n",
        "train.isnull().sum()"
      ],
      "id": "8fd6cf67"
    },
    {
      "cell_type": "code",
      "execution_count": 15,
      "metadata": {
        "id": "eb060103",
        "colab": {
          "base_uri": "https://localhost:8080/"
        },
        "outputId": "7553670b-0eee-489d-f875-12d6cc693cfb"
      },
      "outputs": [
        {
          "output_type": "execute_result",
          "data": {
            "text/plain": [
              "id          0\n",
              "title     122\n",
              "author    503\n",
              "text        7\n",
              "dtype: int64"
            ]
          },
          "metadata": {},
          "execution_count": 15
        }
      ],
      "source": [
        "test.isnull().sum()"
      ],
      "id": "eb060103"
    },
    {
      "cell_type": "code",
      "execution_count": 16,
      "metadata": {
        "id": "683fd3a1"
      },
      "outputs": [],
      "source": [
        "# Replacing the null values with empty string\n",
        "\n",
        "train = train.fillna('')"
      ],
      "id": "683fd3a1"
    },
    {
      "cell_type": "code",
      "source": [
        "train.isnull().sum()"
      ],
      "metadata": {
        "colab": {
          "base_uri": "https://localhost:8080/"
        },
        "id": "dWTQTE_CZSEi",
        "outputId": "c5571e0c-d1f0-4a28-effe-59cf29821a33"
      },
      "id": "dWTQTE_CZSEi",
      "execution_count": 17,
      "outputs": [
        {
          "output_type": "execute_result",
          "data": {
            "text/plain": [
              "id        0\n",
              "title     0\n",
              "author    0\n",
              "text      0\n",
              "label     0\n",
              "dtype: int64"
            ]
          },
          "metadata": {},
          "execution_count": 17
        }
      ]
    },
    {
      "cell_type": "code",
      "execution_count": 18,
      "metadata": {
        "id": "03b3aad2"
      },
      "outputs": [],
      "source": [
        "test = test.fillna('')"
      ],
      "id": "03b3aad2"
    },
    {
      "cell_type": "code",
      "source": [
        "test.isnull().sum()"
      ],
      "metadata": {
        "colab": {
          "base_uri": "https://localhost:8080/"
        },
        "id": "mLkgFY9cZYqj",
        "outputId": "68df501d-2c1c-4d1a-d3b1-f24b9afecf31"
      },
      "id": "mLkgFY9cZYqj",
      "execution_count": 19,
      "outputs": [
        {
          "output_type": "execute_result",
          "data": {
            "text/plain": [
              "id        0\n",
              "title     0\n",
              "author    0\n",
              "text      0\n",
              "dtype: int64"
            ]
          },
          "metadata": {},
          "execution_count": 19
        }
      ]
    },
    {
      "cell_type": "code",
      "execution_count": 20,
      "metadata": {
        "id": "d899d164",
        "colab": {
          "base_uri": "https://localhost:8080/"
        },
        "outputId": "6e2274f1-bbc7-4ef4-cc5d-e2922252cecf"
      },
      "outputs": [
        {
          "output_type": "execute_result",
          "data": {
            "text/plain": [
              "996"
            ]
          },
          "metadata": {},
          "execution_count": 20
        }
      ],
      "source": [
        "# Checking duplicate data\n",
        "\n",
        "train.duplicated('title').sum()"
      ],
      "id": "d899d164"
    },
    {
      "cell_type": "code",
      "execution_count": 21,
      "metadata": {
        "id": "10038884"
      },
      "outputs": [],
      "source": [
        "# Dropping duplicates\n",
        "\n",
        "train.drop_duplicates(subset=\"title\",keep='first', ignore_index=True, inplace=True)\n",
        "test.drop_duplicates(subset=\"title\",keep='first', ignore_index=True, inplace=True)"
      ],
      "id": "10038884"
    },
    {
      "cell_type": "code",
      "execution_count": 22,
      "metadata": {
        "id": "M3cLVoaaGmuP",
        "colab": {
          "base_uri": "https://localhost:8080/"
        },
        "outputId": "10cb1be8-6183-4e44-c1ad-0aaef1caea0d"
      },
      "outputs": [
        {
          "output_type": "stream",
          "name": "stdout",
          "text": [
            "Size of train set:  (19804, 5)\n",
            "Size of test set:  (5057, 4)\n"
          ]
        }
      ],
      "source": [
        "# Print shape \n",
        "\n",
        "print(\"Size of train set: \", train.shape)\n",
        "print(\"Size of test set: \", test.shape)"
      ],
      "id": "M3cLVoaaGmuP"
    },
    {
      "cell_type": "code",
      "execution_count": 23,
      "metadata": {
        "id": "trDUmTVmH6NM",
        "colab": {
          "base_uri": "https://localhost:8080/"
        },
        "outputId": "bf854224-88e1-4f84-8ed0-c7e4ad9a7128"
      },
      "outputs": [
        {
          "output_type": "execute_result",
          "data": {
            "text/plain": [
              "                                             1896\n",
              "Pam Key                                       243\n",
              "admin                                         180\n",
              "Jerome Hudson                                 166\n",
              "Charlie Spiering                              141\n",
              "                                             ... \n",
              "Bill Federer                                    1\n",
              "Ben Sisario and Joe Coscarelli                  1\n",
              "David L. Kirp                                   1\n",
              "James Andrew Miller                             1\n",
              "Michael J. de la Merced and Rachel Abrams       1\n",
              "Name: author, Length: 3826, dtype: int64"
            ]
          },
          "metadata": {},
          "execution_count": 23
        }
      ],
      "source": [
        "# Unique values of authors \n",
        "\n",
        "train.author.value_counts()"
      ],
      "id": "trDUmTVmH6NM"
    },
    {
      "cell_type": "code",
      "source": [
        "test.author.value_counts()"
      ],
      "metadata": {
        "colab": {
          "base_uri": "https://localhost:8080/"
        },
        "id": "AQiyue2-Zzfk",
        "outputId": "66d0b0c5-1b1f-4dd2-d01b-c1c4fac0f2aa"
      },
      "id": "AQiyue2-Zzfk",
      "execution_count": 24,
      "outputs": [
        {
          "output_type": "execute_result",
          "data": {
            "text/plain": [
              "                                                            496\n",
              "Pam Key                                                      65\n",
              "admin                                                        53\n",
              "Jerome Hudson                                                53\n",
              "Charlie Spiering                                             38\n",
              "                                                           ... \n",
              "Ted Loos                                                      1\n",
              "Julie Hirschfeld Davis, Michael D. Shear and Peter Baker      1\n",
              "Maria Afonina                                                 1\n",
              "Brian McNicoll                                                1\n",
              "Teddy Wayne                                                   1\n",
              "Name: author, Length: 1641, dtype: int64"
            ]
          },
          "metadata": {},
          "execution_count": 24
        }
      ]
    },
    {
      "cell_type": "markdown",
      "source": [
        "There are similar authors with multiple articles in the train set and test set. This variable is relevant for prediction"
      ],
      "metadata": {
        "id": "kUHr42knZ1Ym"
      },
      "id": "kUHr42knZ1Ym"
    },
    {
      "cell_type": "markdown",
      "source": [
        "### **Data Preprocessing**"
      ],
      "metadata": {
        "id": "ziQYc196akt7"
      },
      "id": "ziQYc196akt7"
    },
    {
      "cell_type": "code",
      "source": [
        "# Merging the author and title columns\n",
        "\n",
        "train['text'] = train['author'] + ' ' + train['text']"
      ],
      "metadata": {
        "id": "GfLlW1k0aij8"
      },
      "id": "GfLlW1k0aij8",
      "execution_count": 25,
      "outputs": []
    },
    {
      "cell_type": "code",
      "source": [
        "print(train['text'])"
      ],
      "metadata": {
        "colab": {
          "base_uri": "https://localhost:8080/"
        },
        "id": "7xOSVpAQaigt",
        "outputId": "f21eef92-aad3-4cec-f1d5-dc40d1506380"
      },
      "id": "7xOSVpAQaigt",
      "execution_count": 26,
      "outputs": [
        {
          "output_type": "stream",
          "name": "stdout",
          "text": [
            "0        Darrell Lucus House Dem Aide: We Didn’t Even S...\n",
            "1        Daniel J. Flynn Ever get the feeling your life...\n",
            "2        Consortiumnews.com Why the Truth Might Get You...\n",
            "3        Jessica Purkiss Videos 15 Civilians Killed In ...\n",
            "4        Howard Portnoy Print \\nAn Iranian woman has be...\n",
            "                               ...                        \n",
            "19799    Lee Stranahan Donald Trump took to Twitter Fri...\n",
            "19800    Jerome Hudson Rapper T. I. unloaded on black c...\n",
            "19801    Benjamin Hoffman When the Green Bay Packers lo...\n",
            "19802    Michael J. de la Merced and Rachel Abrams The ...\n",
            "19803    Alex Ansary NATO, Russia To Hold Parallel Exer...\n",
            "Name: text, Length: 19804, dtype: object\n"
          ]
        }
      ]
    },
    {
      "cell_type": "code",
      "source": [
        "# Merging the author and test columns on the test set\n",
        "\n",
        "test['text'] = test['author'] + ' ' + test['text']"
      ],
      "metadata": {
        "id": "Q2X43LqWaicA"
      },
      "id": "Q2X43LqWaicA",
      "execution_count": 27,
      "outputs": []
    },
    {
      "cell_type": "code",
      "source": [
        "test['text'].head()"
      ],
      "metadata": {
        "colab": {
          "base_uri": "https://localhost:8080/"
        },
        "id": "FzV92M2taiZU",
        "outputId": "faf462f0-c812-4df3-e752-7a86937f6a0b"
      },
      "id": "FzV92M2taiZU",
      "execution_count": 28,
      "outputs": [
        {
          "output_type": "execute_result",
          "data": {
            "text/plain": [
              "0    David Streitfeld PALO ALTO, Calif.  —   After ...\n",
              "1     Russian warships ready to strike terrorists n...\n",
              "2    Common Dreams Videos #NoDAPL: Native American ...\n",
              "3    Daniel Victor If at first you don’t succeed, t...\n",
              "4    Truth Broadcast Network 42 mins ago 1 Views 0 ...\n",
              "Name: text, dtype: object"
            ]
          },
          "metadata": {},
          "execution_count": 28
        }
      ]
    },
    {
      "cell_type": "markdown",
      "source": [
        "##### Lemmatization"
      ],
      "metadata": {
        "id": "7h-I_4GjLUXy"
      },
      "id": "7h-I_4GjLUXy"
    },
    {
      "cell_type": "code",
      "source": [
        "# This function removes numbers, punctuation marks, converts the text to lowercase and reduces words to their root words\n",
        "\n",
        "lemmatizer = WordNetLemmatizer() # Links words into semantic relations\n",
        "stop_words = list(stopwords.words('english'))\n",
        "\n",
        "# Train data\n",
        "\n",
        "for x in range(len(train)) :\n",
        "    corpus = []\n",
        "    review = train['text'][x]\n",
        "    review = re.sub(r'[^a-zA-Z\\s]', '', review)\n",
        "    review = review.lower()\n",
        "    review = nltk.word_tokenize(review)\n",
        "    for y in review :\n",
        "        if y not in stop_words :\n",
        "            corpus.append(lemmatizer.lemmatize(y))\n",
        "    review = ' '.join(corpus)\n",
        "    train['text'][x] = review      "
      ],
      "metadata": {
        "id": "EhXsAPWGaiV5"
      },
      "id": "EhXsAPWGaiV5",
      "execution_count": 29,
      "outputs": []
    },
    {
      "cell_type": "code",
      "source": [
        "train['text'].head()"
      ],
      "metadata": {
        "colab": {
          "base_uri": "https://localhost:8080/"
        },
        "id": "2yQX-2x2aiS6",
        "outputId": "b84e210d-6364-4730-f620-4bddfbe90bfe"
      },
      "id": "2yQX-2x2aiS6",
      "execution_count": 30,
      "outputs": [
        {
          "output_type": "execute_result",
          "data": {
            "text/plain": [
              "0    darrell lucus house dem aide didnt even see co...\n",
              "1    daniel j flynn ever get feeling life circle ro...\n",
              "2    consortiumnewscom truth might get fired octobe...\n",
              "3    jessica purkiss video civilian killed single u...\n",
              "4    howard portnoy print iranian woman sentenced s...\n",
              "Name: text, dtype: object"
            ]
          },
          "metadata": {},
          "execution_count": 30
        }
      ]
    },
    {
      "cell_type": "code",
      "source": [
        "# Defining the predictor and response variables\n",
        "\n",
        "X = train['text'].values\n",
        "Y = train['label'].values"
      ],
      "metadata": {
        "id": "zQ8_YPZ5aiPg"
      },
      "id": "zQ8_YPZ5aiPg",
      "execution_count": 31,
      "outputs": []
    },
    {
      "cell_type": "code",
      "source": [
        "# Lemmatization of the test data \n",
        "\n",
        "for p in range(len(test)) :\n",
        "    corpus = []\n",
        "    review = test['text'][p]\n",
        "    review = re.sub(r'[^a-zA-Z\\s]', '', review)\n",
        "    review = review.lower()\n",
        "    review = nltk.word_tokenize(review)\n",
        "    for y in review :\n",
        "        if y not in stop_words :\n",
        "            corpus.append(lemmatizer.lemmatize(y))\n",
        "    review = ' '.join(corpus)\n",
        "    test['text'][p] = review  \n",
        "\n",
        "P = test['text'] "
      ],
      "metadata": {
        "id": "kl7BxL9sNrP6"
      },
      "id": "kl7BxL9sNrP6",
      "execution_count": 32,
      "outputs": []
    },
    {
      "cell_type": "markdown",
      "source": [
        "##### Vectorization"
      ],
      "metadata": {
        "id": "NqV41sLXckbv"
      },
      "id": "NqV41sLXckbv"
    },
    {
      "cell_type": "code",
      "source": [
        "# Converting text into numbers\n",
        "\n",
        "vectorizer = TfidfVectorizer()\n",
        "vectorizer.fit(X)\n",
        "\n",
        "# Train data\n",
        "\n",
        "X = vectorizer.transform(X)\n",
        "\n",
        "print(X)"
      ],
      "metadata": {
        "id": "cETjSZ0ScjIJ",
        "colab": {
          "base_uri": "https://localhost:8080/"
        },
        "outputId": "49f5a922-4a5e-45dc-b762-dd5a2c920672"
      },
      "id": "cETjSZ0ScjIJ",
      "execution_count": 33,
      "outputs": [
        {
          "output_type": "stream",
          "name": "stdout",
          "text": [
            "  (0, 162755)\t0.050436438406085735\n",
            "  (0, 162635)\t0.009861617799785208\n",
            "  (0, 161420)\t0.045601845019642304\n",
            "  (0, 161408)\t0.07332573083938157\n",
            "  (0, 161276)\t0.038849045670666896\n",
            "  (0, 161203)\t0.013545016522383312\n",
            "  (0, 160469)\t0.06177153005343979\n",
            "  (0, 159373)\t0.02162202849406224\n",
            "  (0, 159160)\t0.017476717419419877\n",
            "  (0, 158926)\t0.012697285153678432\n",
            "  (0, 158812)\t0.03469258113345222\n",
            "  (0, 158692)\t0.06177153005343979\n",
            "  (0, 158399)\t0.012056689289357695\n",
            "  (0, 157202)\t0.029276734044355907\n",
            "  (0, 157171)\t0.0224107029835225\n",
            "  (0, 157106)\t0.0174969098698063\n",
            "  (0, 155791)\t0.02220039859707576\n",
            "  (0, 154024)\t0.0673512572727459\n",
            "  (0, 152871)\t0.03570735890881373\n",
            "  (0, 152534)\t0.01780603703413158\n",
            "  (0, 151369)\t0.041701779861394644\n",
            "  (0, 150537)\t0.011399330875989629\n",
            "  (0, 150511)\t0.0449996206389361\n",
            "  (0, 150408)\t0.05830142943357925\n",
            "  (0, 150406)\t0.07713766157212253\n",
            "  :\t:\n",
            "  (19803, 35151)\t0.03367295518601229\n",
            "  (19803, 34161)\t0.01895484894095927\n",
            "  (19803, 30997)\t0.0489383990770253\n",
            "  (19803, 30961)\t0.06147047108491759\n",
            "  (19803, 29370)\t0.0452749518528876\n",
            "  (19803, 28656)\t0.05242728040168287\n",
            "  (19803, 25152)\t0.04063837923322765\n",
            "  (19803, 24352)\t0.04594116460673714\n",
            "  (19803, 19337)\t0.06169966455079303\n",
            "  (19803, 15394)\t0.04575666914218498\n",
            "  (19803, 13953)\t0.07369420793305304\n",
            "  (19803, 13729)\t0.034347491633980126\n",
            "  (19803, 13441)\t0.031130066538374898\n",
            "  (19803, 11874)\t0.1917681767030918\n",
            "  (19803, 10898)\t0.05364094286407259\n",
            "  (19803, 9864)\t0.027842543925316866\n",
            "  (19803, 9744)\t0.05093757493350708\n",
            "  (19803, 6461)\t0.06462625098824996\n",
            "  (19803, 4396)\t0.035703583224463445\n",
            "  (19803, 4237)\t0.08736928251642814\n",
            "  (19803, 4154)\t0.04301017771001585\n",
            "  (19803, 3728)\t0.04687766296062442\n",
            "  (19803, 2947)\t0.0332838924609985\n",
            "  (19803, 1012)\t0.03555148148582599\n",
            "  (19803, 884)\t0.08030225691667095\n"
          ]
        }
      ]
    },
    {
      "cell_type": "code",
      "source": [
        "# Test data is only transformed\n",
        "\n",
        "P = vectorizer.transform(P) \n",
        "\n",
        "print(P)"
      ],
      "metadata": {
        "id": "v3fXyVoDQbfg",
        "colab": {
          "base_uri": "https://localhost:8080/"
        },
        "outputId": "3ea9d69e-d9f8-4a56-b522-ce09e40b6acf"
      },
      "id": "v3fXyVoDQbfg",
      "execution_count": 34,
      "outputs": [
        {
          "output_type": "stream",
          "name": "stdout",
          "text": [
            "  (0, 163106)\t0.013134884863498859\n",
            "  (0, 162867)\t0.013574906990888378\n",
            "  (0, 162635)\t0.008385412743798594\n",
            "  (0, 161665)\t0.014768852643262253\n",
            "  (0, 161447)\t0.032804362449606\n",
            "  (0, 161371)\t0.02199892635100618\n",
            "  (0, 161351)\t0.023891660009469646\n",
            "  (0, 161276)\t0.011011218418216638\n",
            "  (0, 161250)\t0.028760561287399122\n",
            "  (0, 161218)\t0.01803080472485452\n",
            "  (0, 161203)\t0.011517436232849076\n",
            "  (0, 160039)\t0.018091440790563386\n",
            "  (0, 160009)\t0.033794099796153186\n",
            "  (0, 159841)\t0.015304272321770793\n",
            "  (0, 159458)\t0.01937955540710635\n",
            "  (0, 159160)\t0.044581779159529655\n",
            "  (0, 158926)\t0.03238981034378117\n",
            "  (0, 158680)\t0.022338931031091868\n",
            "  (0, 158630)\t0.017837764235410048\n",
            "  (0, 158399)\t0.010251899644417577\n",
            "  (0, 158138)\t0.027022408999562233\n",
            "  (0, 157864)\t0.03267929213250047\n",
            "  (0, 157861)\t0.011222468319699063\n",
            "  (0, 157706)\t0.016848268907827178\n",
            "  (0, 157679)\t0.020881548144559937\n",
            "  :\t:\n",
            "  (5056, 6693)\t0.04847160115449645\n",
            "  (5056, 6440)\t0.022676721403006358\n",
            "  (5056, 6191)\t0.022959956730511773\n",
            "  (5056, 6060)\t0.04550093052665265\n",
            "  (5056, 5615)\t0.035108745837130084\n",
            "  (5056, 4933)\t0.014584620198415787\n",
            "  (5056, 4728)\t0.02441878518717645\n",
            "  (5056, 4564)\t0.03254161508045882\n",
            "  (5056, 4558)\t0.03978027544822758\n",
            "  (5056, 4549)\t0.018638951937859746\n",
            "  (5056, 3706)\t0.031437687705799834\n",
            "  (5056, 2916)\t0.022644839230547147\n",
            "  (5056, 2614)\t0.02815566498125582\n",
            "  (5056, 2553)\t0.022525621678684445\n",
            "  (5056, 2483)\t0.01558111010245739\n",
            "  (5056, 2299)\t0.034416388162116125\n",
            "  (5056, 2023)\t0.03819901102941624\n",
            "  (5056, 1842)\t0.028451008055444572\n",
            "  (5056, 1563)\t0.013099347146194026\n",
            "  (5056, 1496)\t0.1137934085575181\n",
            "  (5056, 1408)\t0.021339494052493375\n",
            "  (5056, 1330)\t0.02134572289259687\n",
            "  (5056, 890)\t0.0250058007342807\n",
            "  (5056, 860)\t0.027130811903851384\n",
            "  (5056, 178)\t0.03636360729389668\n"
          ]
        }
      ]
    },
    {
      "cell_type": "markdown",
      "source": [
        "### **Data Modeling**"
      ],
      "metadata": {
        "id": "eIV7EdB4ctIf"
      },
      "id": "eIV7EdB4ctIf"
    },
    {
      "cell_type": "code",
      "source": [
        "from sklearn.model_selection import train_test_split\n",
        "\n",
        "x_train,x_valid,y_train,y_valid = train_test_split(X, Y,test_size=0.3, stratify=Y)"
      ],
      "metadata": {
        "id": "HxrhuF36csc_"
      },
      "id": "HxrhuF36csc_",
      "execution_count": 35,
      "outputs": []
    },
    {
      "cell_type": "markdown",
      "source": [
        "##### Finding models "
      ],
      "metadata": {
        "id": "BUmDfgD_zxcx"
      },
      "id": "BUmDfgD_zxcx"
    },
    {
      "cell_type": "code",
      "source": [
        "# Putting models into a dictionary\n",
        "\n",
        "models = {\"Logistic Regression\" : LogisticRegression(),\n",
        "          \"Random Forest\" : RandomForestClassifier(),\n",
        "          \"Linear SVC\" : LinearSVC(),\n",
        "          \"XGBoost Classifier\": XGBClassifier(),\n",
        "          \"Ridge Classifier\" : RidgeClassifier (),\n",
        "          \"SGD Classifier\" : SGDClassifier(),\n",
        "          }\n",
        "          \n",
        "# Function that will fit and score models\n",
        "\n",
        "def fit_and_score(models, x_train,x_valid,y_train,y_valid):\n",
        "    \"\"\"\n",
        "    fits and evaluates given machine learning models\n",
        "    models : a dictionary of different ML models\n",
        "    x_train : training data (no labels)\n",
        "    x_valid : validation data (no labels)\n",
        "    y_train : training labels\n",
        "    y_valid : validation labels\n",
        "    \"\"\"\n",
        "    # Setting up a random seed\n",
        "\n",
        "    random_state=42\n",
        " \n",
        "    # Making a dictionary to keep model scores\n",
        "\n",
        "    model_scores = {}\n",
        "\n",
        "    # Looping through models\n",
        "    \n",
        "    for name, model in models.items():\n",
        "        # Fitting the models to the data\n",
        "        model.fit(x_train, y_train)\n",
        "        # Evaluating the model and appending its score to model_scores\n",
        "        model_scores[name] = model.score(x_valid, y_valid)\n",
        "    return model_scores"
      ],
      "metadata": {
        "id": "lqzoJuSKcjE9"
      },
      "id": "lqzoJuSKcjE9",
      "execution_count": 36,
      "outputs": []
    },
    {
      "cell_type": "code",
      "source": [
        "%%time\n",
        "scores = fit_and_score(models=models,\n",
        "                      x_train=x_train,\n",
        "                      x_valid=x_valid,\n",
        "                      y_train=y_train,\n",
        "                      y_valid=y_valid)\n",
        "scores"
      ],
      "metadata": {
        "colab": {
          "base_uri": "https://localhost:8080/"
        },
        "id": "ybEU8gsdcjBY",
        "outputId": "dcf95b1b-5cac-4f8a-db5f-02d8f59c39cb"
      },
      "id": "ybEU8gsdcjBY",
      "execution_count": 37,
      "outputs": [
        {
          "output_type": "stream",
          "name": "stdout",
          "text": [
            "CPU times: user 1min 49s, sys: 3.74 s, total: 1min 53s\n",
            "Wall time: 1min 50s\n"
          ]
        },
        {
          "output_type": "execute_result",
          "data": {
            "text/plain": [
              "{'Logistic Regression': 0.9485021878155503,\n",
              " 'Random Forest': 0.9111410299562437,\n",
              " 'Linear SVC': 0.9629754291484349,\n",
              " 'XGBoost Classifier': 0.9276337933355773,\n",
              " 'Ridge Classifier': 0.9654998317064961,\n",
              " 'SGD Classifier': 0.9621339616290812}"
            ]
          },
          "metadata": {},
          "execution_count": 37
        }
      ]
    },
    {
      "cell_type": "markdown",
      "source": [
        "##### Comparing the models"
      ],
      "metadata": {
        "id": "1Ncq8G_7dUBI"
      },
      "id": "1Ncq8G_7dUBI"
    },
    {
      "cell_type": "code",
      "source": [
        "# Visual comparison of the models\n",
        "\n",
        "model_compare = pd.DataFrame(scores, index=['Accuracy'])\n",
        "model_compare.T.plot.bar(color= colors);# Transpose to improve the plot"
      ],
      "metadata": {
        "colab": {
          "base_uri": "https://localhost:8080/",
          "height": 352
        },
        "id": "ODeyFYH1ci9v",
        "outputId": "817a42d0-33b5-45f5-e071-17fcedec2107"
      },
      "id": "ODeyFYH1ci9v",
      "execution_count": 38,
      "outputs": [
        {
          "output_type": "display_data",
          "data": {
            "text/plain": [
              "<Figure size 432x288 with 1 Axes>"
            ],
            "image/png": "[encoded data removed]"
          },
          "metadata": {
            "needs_background": "light"
          }
        }
      ]
    },
    {
      "cell_type": "markdown",
      "source": [
        "Linear SVC and Ridge Classifier were chosen since they have the highest accuracy"
      ],
      "metadata": {
        "id": "e7FB8GjOd8aQ"
      },
      "id": "e7FB8GjOd8aQ"
    },
    {
      "cell_type": "markdown",
      "source": [
        "#### **Hyperparameter Tuning**"
      ],
      "metadata": {
        "id": "4kHafWSNdkm4"
      },
      "id": "4kHafWSNdkm4"
    },
    {
      "cell_type": "markdown",
      "source": [
        "Parfit was used which is a hyperparameter optimization package that uses parallel processing to allow the user to perform an exhaustive grid search on a model."
      ],
      "metadata": {
        "id": "BmgIo2eCJyvv"
      },
      "id": "BmgIo2eCJyvv"
    },
    {
      "cell_type": "markdown",
      "source": [
        "##### Linear SVC"
      ],
      "metadata": {
        "id": "z4_jP5QHDDsC"
      },
      "id": "z4_jP5QHDDsC"
    },
    {
      "cell_type": "code",
      "source": [
        "paramGrid = ParameterGrid({\n",
        "    'tol' : [10, 1.0, 0.1, 0.01, 0.001], # regularization parameter\n",
        "    'loss' : ['hinge','squared_hinge'], # loss function\n",
        "    })\n",
        "best_model, best_score, all_models, all_scores  = pf.bestFit(LinearSVC, paramGrid, \n",
        "     x_train, y_train, x_valid, y_valid, nfolds=5, n_jobs=-1,\n",
        "     metric=accuracy_score,greater_is_better= True, scoreLabel='Accuracy')\n",
        "\n",
        "print(best_model, best_score)"
      ],
      "metadata": {
        "colab": {
          "base_uri": "https://localhost:8080/",
          "height": 343
        },
        "id": "ZWlwyBPduNVy",
        "outputId": "65697f9a-70fd-4417-f049-bc552b85cbe8"
      },
      "id": "ZWlwyBPduNVy",
      "execution_count": 56,
      "outputs": [
        {
          "output_type": "stream",
          "name": "stdout",
          "text": [
            "-------------FITTING MODELS-------------\n"
          ]
        },
        {
          "output_type": "stream",
          "name": "stderr",
          "text": [
            "[Parallel(n_jobs=-1)]: Using backend LokyBackend with 2 concurrent workers.\n",
            "[Parallel(n_jobs=-1)]: Done   1 tasks      | elapsed:    0.1s\n",
            "[Parallel(n_jobs=-1)]: Batch computation too fast (0.0955s.) Setting batch_size=2.\n",
            "[Parallel(n_jobs=-1)]: Done   4 tasks      | elapsed:    1.1s\n",
            "[Parallel(n_jobs=-1)]: Done   7 out of  10 | elapsed:    2.1s remaining:    0.9s\n",
            "[Parallel(n_jobs=-1)]: Done  10 out of  10 | elapsed:    3.3s finished\n",
            "[Parallel(n_jobs=-1)]: Using backend LokyBackend with 2 concurrent workers.\n",
            "[Parallel(n_jobs=-1)]: Done  10 out of  10 | elapsed:    0.1s finished\n"
          ]
        },
        {
          "output_type": "stream",
          "name": "stdout",
          "text": [
            "-------------SCORING MODELS-------------\n"
          ]
        },
        {
          "output_type": "display_data",
          "data": {
            "text/plain": [
              "<Figure size 288x144 with 2 Axes>"
            ],
            "image/png": "[encoded data removed]"
          },
          "metadata": {
            "needs_background": "light"
          }
        },
        {
          "output_type": "stream",
          "name": "stdout",
          "text": [
            "LinearSVC(tol=1.0) 0.9636486031639179\n"
          ]
        }
      ]
    },
    {
      "cell_type": "markdown",
      "source": [
        "There is a slight improvement in Linear SVC after tuning "
      ],
      "metadata": {
        "id": "uVz_9W060Xg0"
      },
      "id": "uVz_9W060Xg0"
    },
    {
      "cell_type": "markdown",
      "source": [
        "##### Ridge Classifier"
      ],
      "metadata": {
        "id": "TrBZ0bqPC7Aa"
      },
      "id": "TrBZ0bqPC7Aa"
    },
    {
      "cell_type": "code",
      "source": [
        "paramGrid = ParameterGrid({\n",
        "    'alpha' : [0.1, 0.2, 0.3, 0.4, 0.5, 0.6, 0.7, 0.8, 0.9, 1.0, 10],\n",
        "    'tol' : [0.0001, 0.001, 0.01, 0.1, 10],\n",
        "    })\n",
        "best_model, best_score, all_models, all_scores  = pf.bestFit(RidgeClassifier, paramGrid, \n",
        "     x_train, y_train, x_valid, y_valid, nfolds=5,n_jobs=-1,\n",
        "     metric=accuracy_score, scoreLabel='Accuracy')\n",
        "\n",
        "print(best_model, best_score)"
      ],
      "metadata": {
        "colab": {
          "base_uri": "https://localhost:8080/",
          "height": 736
        },
        "id": "Q3nOSL0zxu8-",
        "outputId": "f20a51a2-7895-448d-b35d-24333b3cc535"
      },
      "id": "Q3nOSL0zxu8-",
      "execution_count": 58,
      "outputs": [
        {
          "output_type": "stream",
          "name": "stdout",
          "text": [
            "-------------FITTING MODELS-------------\n"
          ]
        },
        {
          "output_type": "stream",
          "name": "stderr",
          "text": [
            "[Parallel(n_jobs=-1)]: Using backend LokyBackend with 2 concurrent workers.\n",
            "[Parallel(n_jobs=-1)]: Done   1 tasks      | elapsed:    2.3s\n",
            "[Parallel(n_jobs=-1)]: Done   4 tasks      | elapsed:    4.0s\n",
            "[Parallel(n_jobs=-1)]: Done   9 tasks      | elapsed:    7.2s\n",
            "[Parallel(n_jobs=-1)]: Done  14 tasks      | elapsed:   10.0s\n",
            "[Parallel(n_jobs=-1)]: Done  21 tasks      | elapsed:   14.0s\n",
            "[Parallel(n_jobs=-1)]: Done  28 tasks      | elapsed:   17.1s\n",
            "[Parallel(n_jobs=-1)]: Done  37 tasks      | elapsed:   21.4s\n",
            "[Parallel(n_jobs=-1)]: Done  46 tasks      | elapsed:   26.7s\n",
            "[Parallel(n_jobs=-1)]: Done  55 out of  55 | elapsed:   29.6s finished\n",
            "[Parallel(n_jobs=-1)]: Using backend LokyBackend with 2 concurrent workers.\n"
          ]
        },
        {
          "output_type": "stream",
          "name": "stdout",
          "text": [
            "-------------SCORING MODELS-------------\n"
          ]
        },
        {
          "output_type": "stream",
          "name": "stderr",
          "text": [
            "[Parallel(n_jobs=-1)]: Done  55 out of  55 | elapsed:    0.6s finished\n"
          ]
        },
        {
          "output_type": "display_data",
          "data": {
            "text/plain": [
              "<Figure size 288x576 with 2 Axes>"
            ],
            "image/png": "[encoded data removed]"
          },
          "metadata": {
            "needs_background": "light"
          }
        },
        {
          "output_type": "stream",
          "name": "stdout",
          "text": [
            "RidgeClassifier(alpha=0.9, tol=0.01) 0.9658364187142376\n"
          ]
        }
      ]
    },
    {
      "cell_type": "markdown",
      "source": [
        "Ridge Classifier has improved slightly and remains the model with the highest accuracy\n"
      ],
      "metadata": {
        "id": "Cd_SeEgSwr26"
      },
      "id": "Cd_SeEgSwr26"
    },
    {
      "cell_type": "markdown",
      "source": [
        "##### **Evaluating our model**"
      ],
      "metadata": {
        "id": "PEsR82bGIHgX"
      },
      "id": "PEsR82bGIHgX"
    },
    {
      "cell_type": "code",
      "source": [
        "# Modeling using the Ridge Classifier\n",
        "\n",
        "ridge_clf = RidgeClassifier(alpha=0.9, tol=0.001)\n",
        "\n",
        "# Setting up sratified k-fold cross validation\n",
        "\n",
        "kfold = StratifiedKFold(n_splits= 5)\n",
        "\n",
        "# Training the model\n",
        "\n",
        "model = ridge_clf.fit(x_train, y_train)\n",
        "\n",
        "# Predictions\n",
        "\n",
        "y_pred = ridge_clf.predict(x_valid)\n",
        "score= accuracy_score(y_valid, y_pred)\n",
        "print(f'Accuracy: {round(score*100,2)}%')\n",
        "\n",
        "# Evaluating our algorithm\n",
        "\n",
        "print(confusion_matrix(y_valid, y_pred))\n",
        "print(classification_report(y_valid, y_pred))\n",
        "\n",
        "results = model_selection.cross_val_score(ridge_clf, X, Y, cv=kfold) \n",
        "print(f'Results: {round(results.mean()*100,2)}%')"
      ],
      "metadata": {
        "id": "M9p8VcoN6vuu",
        "colab": {
          "base_uri": "https://localhost:8080/"
        },
        "outputId": "0ee3e3e6-5cd6-4ed1-81fb-d66f93976405"
      },
      "id": "M9p8VcoN6vuu",
      "execution_count": 62,
      "outputs": [
        {
          "output_type": "stream",
          "name": "stdout",
          "text": [
            "Accuracy: 96.5%\n",
            "[[2992  123]\n",
            " [  85 2742]]\n",
            "              precision    recall  f1-score   support\n",
            "\n",
            "           0       0.97      0.96      0.97      3115\n",
            "           1       0.96      0.97      0.96      2827\n",
            "\n",
            "    accuracy                           0.96      5942\n",
            "   macro avg       0.96      0.97      0.96      5942\n",
            "weighted avg       0.97      0.96      0.97      5942\n",
            "\n",
            "Results: 96.55%\n"
          ]
        }
      ]
    },
    {
      "cell_type": "markdown",
      "source": [
        "The accuracy score is similar to the cross validation score which means it will generalize well on unseen data"
      ],
      "metadata": {
        "id": "S-_j4yjfR55r"
      },
      "id": "S-_j4yjfR55r"
    },
    {
      "cell_type": "code",
      "source": [
        "sns.countplot(y_pred, palette=colors);"
      ],
      "metadata": {
        "colab": {
          "base_uri": "https://localhost:8080/",
          "height": 265
        },
        "id": "7v6funChW10D",
        "outputId": "5cfd2612-1d66-4229-e1f9-a5ed7cfe2798"
      },
      "id": "7v6funChW10D",
      "execution_count": 63,
      "outputs": [
        {
          "output_type": "display_data",
          "data": {
            "text/plain": [
              "<Figure size 432x288 with 1 Axes>"
            ],
            "image/png": "[encoded data removed]"
          },
          "metadata": {
            "needs_background": "light"
          }
        }
      ]
    },
    {
      "cell_type": "code",
      "source": [
        "# Visualizing the confusion matrix for the true and predicted values\n",
        "\n",
        "matrix = confusion_matrix(y_valid,y_pred)\n",
        "display = ConfusionMatrixDisplay(confusion_matrix = matrix, display_labels=[\"Fake\",\"True\"])\n",
        "display.plot(cmap='OrRd_r')\n",
        "plt.show()"
      ],
      "metadata": {
        "id": "crF5H9n06hiO",
        "colab": {
          "base_uri": "https://localhost:8080/",
          "height": 279
        },
        "outputId": "9a73218b-56a5-4e4d-d77d-e370949cfe55"
      },
      "id": "crF5H9n06hiO",
      "execution_count": 64,
      "outputs": [
        {
          "output_type": "display_data",
          "data": {
            "text/plain": [
              "<Figure size 432x288 with 2 Axes>"
            ],
            "image/png": "[encoded data removed]"
          },
          "metadata": {
            "needs_background": "light"
          }
        }
      ]
    },
    {
      "cell_type": "markdown",
      "source": [
        "**Making Predictions**"
      ],
      "metadata": {
        "id": "nUFt-c8kLEMn"
      },
      "id": "nUFt-c8kLEMn"
    },
    {
      "cell_type": "code",
      "source": [
        "# Make prediction on the test set\n",
        "predictions = ridge_clf.predict(P)\n",
        "\n",
        "# Create a submission file\n",
        "sub = pd.read_csv('/content/fake-news/submit.csv')\n",
        "sub_file = sub.copy()\n",
        "sub_file.predictions = predictions\n",
        "\n",
        "# Check the distribution of your predictions\n",
        "sns.countplot(sub_file.predictions, palette=colors);"
      ],
      "metadata": {
        "id": "FkqRe4XD9j5t",
        "colab": {
          "base_uri": "https://localhost:8080/",
          "height": 265
        },
        "outputId": "2447d996-559f-4842-c156-d9fbd9cdb5e5"
      },
      "id": "FkqRe4XD9j5t",
      "execution_count": 65,
      "outputs": [
        {
          "output_type": "display_data",
          "data": {
            "text/plain": [
              "<Figure size 432x288 with 1 Axes>"
            ],
            "image/png": "[encoded data removed]"
          },
          "metadata": {
            "needs_background": "light"
          }
        }
      ]
    },
    {
      "cell_type": "code",
      "source": [
        "# Create a csv file\n",
        "\n",
        "sub_file.to_csv('FakeNewsPred.csv', index = False)"
      ],
      "metadata": {
        "id": "WTnNoP6-Z1JT"
      },
      "id": "WTnNoP6-Z1JT",
      "execution_count": 66,
      "outputs": []
    }
  ],
  "metadata": {
    "colab": {
      "provenance": [],
      "collapsed_sections": [
        "mMrPHVI9zBjK",
        "qy7_RScdcEuH",
        "dYh3PhxJI4HS"
      ]
    },
    "kernelspec": {
      "display_name": "Python 3 (ipykernel)",
      "language": "python",
      "name": "python3"
    },
    "language_info": {
      "codemirror_mode": {
        "name": "ipython",
        "version": 3
      },
      "file_extension": ".py",
      "mimetype": "text/x-python",
      "name": "python",
      "nbconvert_exporter": "python",
      "pygments_lexer": "ipython3",
      "version": "3.9.7"
    }
  },
  "nbformat": 4,
  "nbformat_minor": 5
}