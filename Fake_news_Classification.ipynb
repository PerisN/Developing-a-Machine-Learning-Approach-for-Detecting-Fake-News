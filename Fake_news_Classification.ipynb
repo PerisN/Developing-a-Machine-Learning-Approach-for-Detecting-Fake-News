{
  "cells": [
    {
      "cell_type": "markdown",
      "source": [
        "# **Fake News Prediction**"
      ],
      "metadata": {
        "id": "_Mi6sXein1O3"
      },
      "id": "_Mi6sXein1O3"
    },
    {
      "cell_type": "code",
      "execution_count": 1,
      "metadata": {
        "id": "ie7UxNpnCRjR"
      },
      "outputs": [],
      "source": [
        "#pip install opendatasets --upgrade"
      ],
      "id": "ie7UxNpnCRjR"
    },
    {
      "cell_type": "code",
      "execution_count": null,
      "metadata": {
        "id": "0bb6e1d6"
      },
      "outputs": [],
      "source": [
        "# Import Libraries\n",
        "\n",
        "import pandas as pd\n",
        "import numpy as np\n",
        "\n",
        "import re\n",
        "import string\n",
        "import nltk\n",
        "nltk.download('stopwords')\n",
        "nltk.download('punkt')\n",
        "nltk.download('wordnet')\n",
        "nltk.download('omw-1.4')\n",
        "from nltk.corpus import stopwords\n",
        "from nltk.tokenize import word_tokenize\n",
        "from nltk.stem import WordNetLemmatizer\n",
        "\n",
        "from sklearn.feature_extraction.text import TfidfVectorizer \n",
        "from sklearn.model_selection import train_test_split, RepeatedStratifiedKFold, StratifiedKFold, ParameterGrid, cross_val_predict, cross_val_score\n",
        "from sklearn.linear_model import LogisticRegression, RidgeClassifier, SGDClassifier\n",
        "from sklearn.ensemble import RandomForestClassifier\n",
        "import xgboost as xgb\n",
        "from xgboost import XGBClassifier\n",
        "from sklearn.svm import LinearSVC\n",
        "from sklearn.manifold import TSNE\n",
        "from sklearn.metrics import f1_score, accuracy_score, roc_auc_score, roc_curve, classification_report, confusion_matrix, ConfusionMatrixDisplay\n",
        "\n",
        "import seaborn as sns\n",
        "import plotly.express as px\n",
        "import matplotlib.pyplot as plt\n",
        "%matplotlib inline\n",
        "\n",
        "colors = ['firebrick', 'tomato']\n",
        "\n",
        "\n",
        "import warnings\n",
        "warnings.filterwarnings('ignore')"
      ],
      "id": "0bb6e1d6"
    },
    {
      "cell_type": "markdown",
      "source": [
        "##### Loading Data"
      ],
      "metadata": {
        "id": "mMrPHVI9zBjK"
      },
      "id": "mMrPHVI9zBjK"
    },
    {
      "cell_type": "code",
      "execution_count": null,
      "metadata": {
        "id": "KUGaxfsepxOl"
      },
      "outputs": [],
      "source": [
        "import opendatasets as od\n",
        "\n",
        "od.download(\"https://www.kaggle.com/competitions/fake-news/data\")"
      ],
      "id": "KUGaxfsepxOl"
    },
    {
      "cell_type": "code",
      "execution_count": 4,
      "metadata": {
        "id": "lcKXGV39qxqP"
      },
      "outputs": [],
      "source": [
        "import os\n",
        "dir = \"./fake-news\"\n",
        "os.listdir(dir)\n",
        "\n",
        "train_dir = dir + \"/train.csv\"\n",
        "test_dir = dir + \"/test.csv\""
      ],
      "id": "lcKXGV39qxqP"
    },
    {
      "cell_type": "code",
      "execution_count": 5,
      "metadata": {
        "id": "hfW-X2GWsY4Q"
      },
      "outputs": [],
      "source": [
        "train = pd.read_csv(train_dir)\n",
        "test = pd.read_csv(test_dir)"
      ],
      "id": "hfW-X2GWsY4Q"
    },
    {
      "cell_type": "markdown",
      "source": [
        "### **Understanding the data**"
      ],
      "metadata": {
        "id": "qy7_RScdcEuH"
      },
      "id": "qy7_RScdcEuH"
    },
    {
      "cell_type": "code",
      "execution_count": 6,
      "metadata": {
        "id": "F0gwu0VmFJYM",
        "colab": {
          "base_uri": "https://localhost:8080/"
        },
        "outputId": "2abee93f-baed-41cb-e3d2-136dd343e301"
      },
      "outputs": [
        {
          "output_type": "stream",
          "name": "stdout",
          "text": [
            "Size of train set:  (20800, 5)\n",
            "Size of test set:  (5200, 4)\n"
          ]
        }
      ],
      "source": [
        "# Check the shape of the train and test sets\n",
        "\n",
        "print(\"Size of train set: \", train.shape)\n",
        "print(\"Size of test set: \", test.shape)"
      ],
      "id": "F0gwu0VmFJYM"
    },
    {
      "cell_type": "code",
      "execution_count": 7,
      "metadata": {
        "id": "1e29d5cb",
        "colab": {
          "base_uri": "https://localhost:8080/",
          "height": 206
        },
        "outputId": "a834b1ae-264f-4513-c2c8-c3bd5a7a7da3"
      },
      "outputs": [
        {
          "output_type": "execute_result",
          "data": {
            "text/plain": [
              "   id                                              title              author  \\\n",
              "0   0  House Dem Aide: We Didn’t Even See Comey’s Let...       Darrell Lucus   \n",
              "1   1  FLYNN: Hillary Clinton, Big Woman on Campus - ...     Daniel J. Flynn   \n",
              "2   2                  Why the Truth Might Get You Fired  Consortiumnews.com   \n",
              "3   3  15 Civilians Killed In Single US Airstrike Hav...     Jessica Purkiss   \n",
              "4   4  Iranian woman jailed for fictional unpublished...      Howard Portnoy   \n",
              "\n",
              "                                                text  label  \n",
              "0  House Dem Aide: We Didn’t Even See Comey’s Let...      1  \n",
              "1  Ever get the feeling your life circles the rou...      0  \n",
              "2  Why the Truth Might Get You Fired October 29, ...      1  \n",
              "3  Videos 15 Civilians Killed In Single US Airstr...      1  \n",
              "4  Print \\nAn Iranian woman has been sentenced to...      1  "
            ],
            "text/html": [
              "\n",
              "  <div id=\"df-52ea5a01-4a6c-4f67-99b1-119a683181d4\">\n",
              "    <div class=\"colab-df-container\">\n",
              "      <div>\n",
              "<style scoped>\n",
              "    .dataframe tbody tr th:only-of-type {\n",
              "        vertical-align: middle;\n",
              "    }\n",
              "\n",
              "    .dataframe tbody tr th {\n",
              "        vertical-align: top;\n",
              "    }\n",
              "\n",
              "    .dataframe thead th {\n",
              "        text-align: right;\n",
              "    }\n",
              "</style>\n",
              "<table border=\"1\" class=\"dataframe\">\n",
              "  <thead>\n",
              "    <tr style=\"text-align: right;\">\n",
              "      <th></th>\n",
              "      <th>id</th>\n",
              "      <th>title</th>\n",
              "      <th>author</th>\n",
              "      <th>text</th>\n",
              "      <th>label</th>\n",
              "    </tr>\n",
              "  </thead>\n",
              "  <tbody>\n",
              "    <tr>\n",
              "      <th>0</th>\n",
              "      <td>0</td>\n",
              "      <td>House Dem Aide: We Didn’t Even See Comey’s Let...</td>\n",
              "      <td>Darrell Lucus</td>\n",
              "      <td>House Dem Aide: We Didn’t Even See Comey’s Let...</td>\n",
              "      <td>1</td>\n",
              "    </tr>\n",
              "    <tr>\n",
              "      <th>1</th>\n",
              "      <td>1</td>\n",
              "      <td>FLYNN: Hillary Clinton, Big Woman on Campus - ...</td>\n",
              "      <td>Daniel J. Flynn</td>\n",
              "      <td>Ever get the feeling your life circles the rou...</td>\n",
              "      <td>0</td>\n",
              "    </tr>\n",
              "    <tr>\n",
              "      <th>2</th>\n",
              "      <td>2</td>\n",
              "      <td>Why the Truth Might Get You Fired</td>\n",
              "      <td>Consortiumnews.com</td>\n",
              "      <td>Why the Truth Might Get You Fired October 29, ...</td>\n",
              "      <td>1</td>\n",
              "    </tr>\n",
              "    <tr>\n",
              "      <th>3</th>\n",
              "      <td>3</td>\n",
              "      <td>15 Civilians Killed In Single US Airstrike Hav...</td>\n",
              "      <td>Jessica Purkiss</td>\n",
              "      <td>Videos 15 Civilians Killed In Single US Airstr...</td>\n",
              "      <td>1</td>\n",
              "    </tr>\n",
              "    <tr>\n",
              "      <th>4</th>\n",
              "      <td>4</td>\n",
              "      <td>Iranian woman jailed for fictional unpublished...</td>\n",
              "      <td>Howard Portnoy</td>\n",
              "      <td>Print \\nAn Iranian woman has been sentenced to...</td>\n",
              "      <td>1</td>\n",
              "    </tr>\n",
              "  </tbody>\n",
              "</table>\n",
              "</div>\n",
              "      <button class=\"colab-df-convert\" onclick=\"convertToInteractive('df-52ea5a01-4a6c-4f67-99b1-119a683181d4')\"\n",
              "              title=\"Convert this dataframe to an interactive table.\"\n",
              "              style=\"display:none;\">\n",
              "        \n",
              "  <svg xmlns=\"http://www.w3.org/2000/svg\" height=\"24px\"viewBox=\"0 0 24 24\"\n",
              "       width=\"24px\">\n",
              "    <path d=\"M0 0h24v24H0V0z\" fill=\"none\"/>\n",
              "    <path d=\"M18.56 5.44l.94 2.06.94-2.06 2.06-.94-2.06-.94-.94-2.06-.94 2.06-2.06.94zm-11 1L8.5 8.5l.94-2.06 2.06-.94-2.06-.94L8.5 2.5l-.94 2.06-2.06.94zm10 10l.94 2.06.94-2.06 2.06-.94-2.06-.94-.94-2.06-.94 2.06-2.06.94z\"/><path d=\"M17.41 7.96l-1.37-1.37c-.4-.4-.92-.59-1.43-.59-.52 0-1.04.2-1.43.59L10.3 9.45l-7.72 7.72c-.78.78-.78 2.05 0 2.83L4 21.41c.39.39.9.59 1.41.59.51 0 1.02-.2 1.41-.59l7.78-7.78 2.81-2.81c.8-.78.8-2.07 0-2.86zM5.41 20L4 18.59l7.72-7.72 1.47 1.35L5.41 20z\"/>\n",
              "  </svg>\n",
              "      </button>\n",
              "      \n",
              "  <style>\n",
              "    .colab-df-container {\n",
              "      display:flex;\n",
              "      flex-wrap:wrap;\n",
              "      gap: 12px;\n",
              "    }\n",
              "\n",
              "    .colab-df-convert {\n",
              "      background-color: #E8F0FE;\n",
              "      border: none;\n",
              "      border-radius: 50%;\n",
              "      cursor: pointer;\n",
              "      display: none;\n",
              "      fill: #1967D2;\n",
              "      height: 32px;\n",
              "      padding: 0 0 0 0;\n",
              "      width: 32px;\n",
              "    }\n",
              "\n",
              "    .colab-df-convert:hover {\n",
              "      background-color: #E2EBFA;\n",
              "      box-shadow: 0px 1px 2px rgba(60, 64, 67, 0.3), 0px 1px 3px 1px rgba(60, 64, 67, 0.15);\n",
              "      fill: #174EA6;\n",
              "    }\n",
              "\n",
              "    [theme=dark] .colab-df-convert {\n",
              "      background-color: #3B4455;\n",
              "      fill: #D2E3FC;\n",
              "    }\n",
              "\n",
              "    [theme=dark] .colab-df-convert:hover {\n",
              "      background-color: #434B5C;\n",
              "      box-shadow: 0px 1px 3px 1px rgba(0, 0, 0, 0.15);\n",
              "      filter: drop-shadow(0px 1px 2px rgba(0, 0, 0, 0.3));\n",
              "      fill: #FFFFFF;\n",
              "    }\n",
              "  </style>\n",
              "\n",
              "      <script>\n",
              "        const buttonEl =\n",
              "          document.querySelector('#df-52ea5a01-4a6c-4f67-99b1-119a683181d4 button.colab-df-convert');\n",
              "        buttonEl.style.display =\n",
              "          google.colab.kernel.accessAllowed ? 'block' : 'none';\n",
              "\n",
              "        async function convertToInteractive(key) {\n",
              "          const element = document.querySelector('#df-52ea5a01-4a6c-4f67-99b1-119a683181d4');\n",
              "          const dataTable =\n",
              "            await google.colab.kernel.invokeFunction('convertToInteractive',\n",
              "                                                     [key], {});\n",
              "          if (!dataTable) return;\n",
              "\n",
              "          const docLinkHtml = 'Like what you see? Visit the ' +\n",
              "            '<a target=\"_blank\" href=https://colab.research.google.com/notebooks/data_table.ipynb>data table notebook</a>'\n",
              "            + ' to learn more about interactive tables.';\n",
              "          element.innerHTML = '';\n",
              "          dataTable['output_type'] = 'display_data';\n",
              "          await google.colab.output.renderOutput(dataTable, element);\n",
              "          const docLink = document.createElement('div');\n",
              "          docLink.innerHTML = docLinkHtml;\n",
              "          element.appendChild(docLink);\n",
              "        }\n",
              "      </script>\n",
              "    </div>\n",
              "  </div>\n",
              "  "
            ]
          },
          "metadata": {},
          "execution_count": 7
        }
      ],
      "source": [
        "# Print the first 5 rows\n",
        "\n",
        "train.head()"
      ],
      "id": "1e29d5cb"
    },
    {
      "cell_type": "code",
      "execution_count": 8,
      "metadata": {
        "id": "-0gQBz14Ezkl",
        "colab": {
          "base_uri": "https://localhost:8080/"
        },
        "outputId": "7276eaab-de26-48c1-b171-99a9a348d4a3"
      },
      "outputs": [
        {
          "output_type": "stream",
          "name": "stdout",
          "text": [
            "<class 'pandas.core.frame.DataFrame'>\n",
            "RangeIndex: 20800 entries, 0 to 20799\n",
            "Data columns (total 5 columns):\n",
            " #   Column  Non-Null Count  Dtype \n",
            "---  ------  --------------  ----- \n",
            " 0   id      20800 non-null  int64 \n",
            " 1   title   20242 non-null  object\n",
            " 2   author  18843 non-null  object\n",
            " 3   text    20761 non-null  object\n",
            " 4   label   20800 non-null  int64 \n",
            "dtypes: int64(2), object(3)\n",
            "memory usage: 812.6+ KB\n"
          ]
        }
      ],
      "source": [
        "# Data description\n",
        "\n",
        "train.info()"
      ],
      "id": "-0gQBz14Ezkl"
    },
    {
      "cell_type": "code",
      "execution_count": 9,
      "metadata": {
        "id": "909cd3c4",
        "colab": {
          "base_uri": "https://localhost:8080/",
          "height": 206
        },
        "outputId": "a07f03ab-3ad2-4097-a802-bb1812a7901b"
      },
      "outputs": [
        {
          "output_type": "execute_result",
          "data": {
            "text/plain": [
              "      id                                              title  \\\n",
              "0  20800  Specter of Trump Loosens Tongues, if Not Purse...   \n",
              "1  20801  Russian warships ready to strike terrorists ne...   \n",
              "2  20802  #NoDAPL: Native American Leaders Vow to Stay A...   \n",
              "3  20803  Tim Tebow Will Attempt Another Comeback, This ...   \n",
              "4  20804                    Keiser Report: Meme Wars (E995)   \n",
              "\n",
              "                    author                                               text  \n",
              "0         David Streitfeld  PALO ALTO, Calif.  —   After years of scorning...  \n",
              "1                      NaN  Russian warships ready to strike terrorists ne...  \n",
              "2            Common Dreams  Videos #NoDAPL: Native American Leaders Vow to...  \n",
              "3            Daniel Victor  If at first you don’t succeed, try a different...  \n",
              "4  Truth Broadcast Network  42 mins ago 1 Views 0 Comments 0 Likes 'For th...  "
            ],
            "text/html": [
              "\n",
              "  <div id=\"df-40480310-fa46-4df4-ab8f-1f6060fa0a1d\">\n",
              "    <div class=\"colab-df-container\">\n",
              "      <div>\n",
              "<style scoped>\n",
              "    .dataframe tbody tr th:only-of-type {\n",
              "        vertical-align: middle;\n",
              "    }\n",
              "\n",
              "    .dataframe tbody tr th {\n",
              "        vertical-align: top;\n",
              "    }\n",
              "\n",
              "    .dataframe thead th {\n",
              "        text-align: right;\n",
              "    }\n",
              "</style>\n",
              "<table border=\"1\" class=\"dataframe\">\n",
              "  <thead>\n",
              "    <tr style=\"text-align: right;\">\n",
              "      <th></th>\n",
              "      <th>id</th>\n",
              "      <th>title</th>\n",
              "      <th>author</th>\n",
              "      <th>text</th>\n",
              "    </tr>\n",
              "  </thead>\n",
              "  <tbody>\n",
              "    <tr>\n",
              "      <th>0</th>\n",
              "      <td>20800</td>\n",
              "      <td>Specter of Trump Loosens Tongues, if Not Purse...</td>\n",
              "      <td>David Streitfeld</td>\n",
              "      <td>PALO ALTO, Calif.  —   After years of scorning...</td>\n",
              "    </tr>\n",
              "    <tr>\n",
              "      <th>1</th>\n",
              "      <td>20801</td>\n",
              "      <td>Russian warships ready to strike terrorists ne...</td>\n",
              "      <td>NaN</td>\n",
              "      <td>Russian warships ready to strike terrorists ne...</td>\n",
              "    </tr>\n",
              "    <tr>\n",
              "      <th>2</th>\n",
              "      <td>20802</td>\n",
              "      <td>#NoDAPL: Native American Leaders Vow to Stay A...</td>\n",
              "      <td>Common Dreams</td>\n",
              "      <td>Videos #NoDAPL: Native American Leaders Vow to...</td>\n",
              "    </tr>\n",
              "    <tr>\n",
              "      <th>3</th>\n",
              "      <td>20803</td>\n",
              "      <td>Tim Tebow Will Attempt Another Comeback, This ...</td>\n",
              "      <td>Daniel Victor</td>\n",
              "      <td>If at first you don’t succeed, try a different...</td>\n",
              "    </tr>\n",
              "    <tr>\n",
              "      <th>4</th>\n",
              "      <td>20804</td>\n",
              "      <td>Keiser Report: Meme Wars (E995)</td>\n",
              "      <td>Truth Broadcast Network</td>\n",
              "      <td>42 mins ago 1 Views 0 Comments 0 Likes 'For th...</td>\n",
              "    </tr>\n",
              "  </tbody>\n",
              "</table>\n",
              "</div>\n",
              "      <button class=\"colab-df-convert\" onclick=\"convertToInteractive('df-40480310-fa46-4df4-ab8f-1f6060fa0a1d')\"\n",
              "              title=\"Convert this dataframe to an interactive table.\"\n",
              "              style=\"display:none;\">\n",
              "        \n",
              "  <svg xmlns=\"http://www.w3.org/2000/svg\" height=\"24px\"viewBox=\"0 0 24 24\"\n",
              "       width=\"24px\">\n",
              "    <path d=\"M0 0h24v24H0V0z\" fill=\"none\"/>\n",
              "    <path d=\"M18.56 5.44l.94 2.06.94-2.06 2.06-.94-2.06-.94-.94-2.06-.94 2.06-2.06.94zm-11 1L8.5 8.5l.94-2.06 2.06-.94-2.06-.94L8.5 2.5l-.94 2.06-2.06.94zm10 10l.94 2.06.94-2.06 2.06-.94-2.06-.94-.94-2.06-.94 2.06-2.06.94z\"/><path d=\"M17.41 7.96l-1.37-1.37c-.4-.4-.92-.59-1.43-.59-.52 0-1.04.2-1.43.59L10.3 9.45l-7.72 7.72c-.78.78-.78 2.05 0 2.83L4 21.41c.39.39.9.59 1.41.59.51 0 1.02-.2 1.41-.59l7.78-7.78 2.81-2.81c.8-.78.8-2.07 0-2.86zM5.41 20L4 18.59l7.72-7.72 1.47 1.35L5.41 20z\"/>\n",
              "  </svg>\n",
              "      </button>\n",
              "      \n",
              "  <style>\n",
              "    .colab-df-container {\n",
              "      display:flex;\n",
              "      flex-wrap:wrap;\n",
              "      gap: 12px;\n",
              "    }\n",
              "\n",
              "    .colab-df-convert {\n",
              "      background-color: #E8F0FE;\n",
              "      border: none;\n",
              "      border-radius: 50%;\n",
              "      cursor: pointer;\n",
              "      display: none;\n",
              "      fill: #1967D2;\n",
              "      height: 32px;\n",
              "      padding: 0 0 0 0;\n",
              "      width: 32px;\n",
              "    }\n",
              "\n",
              "    .colab-df-convert:hover {\n",
              "      background-color: #E2EBFA;\n",
              "      box-shadow: 0px 1px 2px rgba(60, 64, 67, 0.3), 0px 1px 3px 1px rgba(60, 64, 67, 0.15);\n",
              "      fill: #174EA6;\n",
              "    }\n",
              "\n",
              "    [theme=dark] .colab-df-convert {\n",
              "      background-color: #3B4455;\n",
              "      fill: #D2E3FC;\n",
              "    }\n",
              "\n",
              "    [theme=dark] .colab-df-convert:hover {\n",
              "      background-color: #434B5C;\n",
              "      box-shadow: 0px 1px 3px 1px rgba(0, 0, 0, 0.15);\n",
              "      filter: drop-shadow(0px 1px 2px rgba(0, 0, 0, 0.3));\n",
              "      fill: #FFFFFF;\n",
              "    }\n",
              "  </style>\n",
              "\n",
              "      <script>\n",
              "        const buttonEl =\n",
              "          document.querySelector('#df-40480310-fa46-4df4-ab8f-1f6060fa0a1d button.colab-df-convert');\n",
              "        buttonEl.style.display =\n",
              "          google.colab.kernel.accessAllowed ? 'block' : 'none';\n",
              "\n",
              "        async function convertToInteractive(key) {\n",
              "          const element = document.querySelector('#df-40480310-fa46-4df4-ab8f-1f6060fa0a1d');\n",
              "          const dataTable =\n",
              "            await google.colab.kernel.invokeFunction('convertToInteractive',\n",
              "                                                     [key], {});\n",
              "          if (!dataTable) return;\n",
              "\n",
              "          const docLinkHtml = 'Like what you see? Visit the ' +\n",
              "            '<a target=\"_blank\" href=https://colab.research.google.com/notebooks/data_table.ipynb>data table notebook</a>'\n",
              "            + ' to learn more about interactive tables.';\n",
              "          element.innerHTML = '';\n",
              "          dataTable['output_type'] = 'display_data';\n",
              "          await google.colab.output.renderOutput(dataTable, element);\n",
              "          const docLink = document.createElement('div');\n",
              "          docLink.innerHTML = docLinkHtml;\n",
              "          element.appendChild(docLink);\n",
              "        }\n",
              "      </script>\n",
              "    </div>\n",
              "  </div>\n",
              "  "
            ]
          },
          "metadata": {},
          "execution_count": 9
        }
      ],
      "source": [
        "test.head()"
      ],
      "id": "909cd3c4"
    },
    {
      "cell_type": "code",
      "execution_count": 10,
      "metadata": {
        "id": "FU7X67eTGUOM",
        "colab": {
          "base_uri": "https://localhost:8080/"
        },
        "outputId": "9537e5d8-93f3-4e11-92ff-bb44986989e6"
      },
      "outputs": [
        {
          "output_type": "stream",
          "name": "stdout",
          "text": [
            "<class 'pandas.core.frame.DataFrame'>\n",
            "RangeIndex: 5200 entries, 0 to 5199\n",
            "Data columns (total 4 columns):\n",
            " #   Column  Non-Null Count  Dtype \n",
            "---  ------  --------------  ----- \n",
            " 0   id      5200 non-null   int64 \n",
            " 1   title   5078 non-null   object\n",
            " 2   author  4697 non-null   object\n",
            " 3   text    5193 non-null   object\n",
            "dtypes: int64(1), object(3)\n",
            "memory usage: 162.6+ KB\n"
          ]
        }
      ],
      "source": [
        "test.info()"
      ],
      "id": "FU7X67eTGUOM"
    },
    {
      "cell_type": "code",
      "source": [
        "# Target variable distribution\n",
        "\n",
        "train.label.value_counts()"
      ],
      "metadata": {
        "colab": {
          "base_uri": "https://localhost:8080/"
        },
        "id": "z3bY7FP0YPY7",
        "outputId": "86e1b711-ea43-496e-dbca-a47819d18a51"
      },
      "id": "z3bY7FP0YPY7",
      "execution_count": 11,
      "outputs": [
        {
          "output_type": "execute_result",
          "data": {
            "text/plain": [
              "1    10413\n",
              "0    10387\n",
              "Name: label, dtype: int64"
            ]
          },
          "metadata": {},
          "execution_count": 11
        }
      ]
    },
    {
      "cell_type": "code",
      "source": [
        "# Visualizing the target distribution\n",
        "\n",
        "sns.countplot(train['label'], palette=colors);"
      ],
      "metadata": {
        "colab": {
          "base_uri": "https://localhost:8080/",
          "height": 279
        },
        "id": "S6ytmYhtYqFQ",
        "outputId": "fcffdcc9-3bd2-4227-8cdf-f90f7e0ae1ca"
      },
      "id": "S6ytmYhtYqFQ",
      "execution_count": 12,
      "outputs": [
        {
          "output_type": "display_data",
          "data": {
            "text/plain": [
              "<Figure size 432x288 with 1 Axes>"
            ],
            "image/png": "[encoded data removed]"
          },
          "metadata": {
            "needs_background": "light"
          }
        }
      ]
    },
    {
      "cell_type": "markdown",
      "source": [
        "The target variable is fairly balanced"
      ],
      "metadata": {
        "id": "z3NpoHsQYycv"
      },
      "id": "z3NpoHsQYycv"
    },
    {
      "cell_type": "markdown",
      "metadata": {
        "id": "dYh3PhxJI4HS"
      },
      "source": [
        "### **Data Cleaning**"
      ],
      "id": "dYh3PhxJI4HS"
    },
    {
      "cell_type": "code",
      "execution_count": 13,
      "metadata": {
        "id": "8fd6cf67",
        "colab": {
          "base_uri": "https://localhost:8080/"
        },
        "outputId": "2c292221-04fd-42a9-8cc9-1f3a3dcd3bbf"
      },
      "outputs": [
        {
          "output_type": "execute_result",
          "data": {
            "text/plain": [
              "id           0\n",
              "title      558\n",
              "author    1957\n",
              "text        39\n",
              "label        0\n",
              "dtype: int64"
            ]
          },
          "metadata": {},
          "execution_count": 13
        }
      ],
      "source": [
        "# Checking null instances\n",
        "\n",
        "train.isnull().sum()"
      ],
      "id": "8fd6cf67"
    },
    {
      "cell_type": "code",
      "execution_count": 14,
      "metadata": {
        "id": "eb060103",
        "colab": {
          "base_uri": "https://localhost:8080/"
        },
        "outputId": "4346fa9a-9c59-42cd-cff9-7c1b6864513c"
      },
      "outputs": [
        {
          "output_type": "execute_result",
          "data": {
            "text/plain": [
              "id          0\n",
              "title     122\n",
              "author    503\n",
              "text        7\n",
              "dtype: int64"
            ]
          },
          "metadata": {},
          "execution_count": 14
        }
      ],
      "source": [
        "test.isnull().sum()"
      ],
      "id": "eb060103"
    },
    {
      "cell_type": "code",
      "execution_count": 15,
      "metadata": {
        "id": "683fd3a1"
      },
      "outputs": [],
      "source": [
        "# Replacing the null values with empty string\n",
        "\n",
        "train = train.fillna('')"
      ],
      "id": "683fd3a1"
    },
    {
      "cell_type": "code",
      "source": [
        "train.isnull().sum()"
      ],
      "metadata": {
        "colab": {
          "base_uri": "https://localhost:8080/"
        },
        "id": "dWTQTE_CZSEi",
        "outputId": "9d6cde3a-116c-4dc4-c346-0ebe7c10243a"
      },
      "id": "dWTQTE_CZSEi",
      "execution_count": 16,
      "outputs": [
        {
          "output_type": "execute_result",
          "data": {
            "text/plain": [
              "id        0\n",
              "title     0\n",
              "author    0\n",
              "text      0\n",
              "label     0\n",
              "dtype: int64"
            ]
          },
          "metadata": {},
          "execution_count": 16
        }
      ]
    },
    {
      "cell_type": "code",
      "execution_count": 17,
      "metadata": {
        "id": "03b3aad2"
      },
      "outputs": [],
      "source": [
        "test = test.fillna('')"
      ],
      "id": "03b3aad2"
    },
    {
      "cell_type": "code",
      "source": [
        "test.isnull().sum()"
      ],
      "metadata": {
        "colab": {
          "base_uri": "https://localhost:8080/"
        },
        "id": "mLkgFY9cZYqj",
        "outputId": "35c4946f-9a7b-44f2-e6d0-cdfff349c6b2"
      },
      "id": "mLkgFY9cZYqj",
      "execution_count": 18,
      "outputs": [
        {
          "output_type": "execute_result",
          "data": {
            "text/plain": [
              "id        0\n",
              "title     0\n",
              "author    0\n",
              "text      0\n",
              "dtype: int64"
            ]
          },
          "metadata": {},
          "execution_count": 18
        }
      ]
    },
    {
      "cell_type": "code",
      "execution_count": 19,
      "metadata": {
        "id": "d899d164",
        "colab": {
          "base_uri": "https://localhost:8080/"
        },
        "outputId": "6d927288-4c3c-42e5-8ded-abc8d6eb1a8f"
      },
      "outputs": [
        {
          "output_type": "execute_result",
          "data": {
            "text/plain": [
              "(996, 143)"
            ]
          },
          "metadata": {},
          "execution_count": 19
        }
      ],
      "source": [
        "# Checking duplicate data\n",
        "\n",
        "train.duplicated('title').sum(), test.duplicated('title').sum()"
      ],
      "id": "d899d164"
    },
    {
      "cell_type": "code",
      "execution_count": 20,
      "metadata": {
        "id": "10038884"
      },
      "outputs": [],
      "source": [
        "# Dropping duplicates\n",
        "\n",
        "train.drop_duplicates(subset=\"title\",keep='first', ignore_index=True, inplace=True)\n",
        "test.drop_duplicates(subset=\"title\",keep='first', ignore_index=True, inplace=True)"
      ],
      "id": "10038884"
    },
    {
      "cell_type": "code",
      "execution_count": 21,
      "metadata": {
        "id": "M3cLVoaaGmuP",
        "colab": {
          "base_uri": "https://localhost:8080/"
        },
        "outputId": "e66ab1d0-f8a5-4fef-be52-067a0f887a09"
      },
      "outputs": [
        {
          "output_type": "stream",
          "name": "stdout",
          "text": [
            "Size of train set:  (19804, 5)\n",
            "Size of test set:  (5057, 4)\n"
          ]
        }
      ],
      "source": [
        "# Print shape \n",
        "\n",
        "print(\"Size of train set: \", train.shape)\n",
        "print(\"Size of test set: \", test.shape)"
      ],
      "id": "M3cLVoaaGmuP"
    },
    {
      "cell_type": "code",
      "execution_count": 22,
      "metadata": {
        "id": "trDUmTVmH6NM",
        "colab": {
          "base_uri": "https://localhost:8080/"
        },
        "outputId": "060595ed-3811-4c82-f5eb-b7ff563ef5c5"
      },
      "outputs": [
        {
          "output_type": "execute_result",
          "data": {
            "text/plain": [
              "                                             1896\n",
              "Pam Key                                       243\n",
              "admin                                         180\n",
              "Jerome Hudson                                 166\n",
              "Charlie Spiering                              141\n",
              "                                             ... \n",
              "Bill Federer                                    1\n",
              "Ben Sisario and Joe Coscarelli                  1\n",
              "David L. Kirp                                   1\n",
              "James Andrew Miller                             1\n",
              "Michael J. de la Merced and Rachel Abrams       1\n",
              "Name: author, Length: 3826, dtype: int64"
            ]
          },
          "metadata": {},
          "execution_count": 22
        }
      ],
      "source": [
        "# Unique values of authors \n",
        "\n",
        "train.author.value_counts()"
      ],
      "id": "trDUmTVmH6NM"
    },
    {
      "cell_type": "code",
      "source": [
        "train.author.nunique()"
      ],
      "metadata": {
        "colab": {
          "base_uri": "https://localhost:8080/"
        },
        "id": "wSK4ZNJ-R-0L",
        "outputId": "fb918065-83e4-4760-aaf4-c79cb01b7244"
      },
      "id": "wSK4ZNJ-R-0L",
      "execution_count": 23,
      "outputs": [
        {
          "output_type": "execute_result",
          "data": {
            "text/plain": [
              "3826"
            ]
          },
          "metadata": {},
          "execution_count": 23
        }
      ]
    },
    {
      "cell_type": "code",
      "source": [
        "test.author.value_counts()"
      ],
      "metadata": {
        "colab": {
          "base_uri": "https://localhost:8080/"
        },
        "id": "AQiyue2-Zzfk",
        "outputId": "db8b1b90-deb4-4bc3-af97-10128cddd17b"
      },
      "id": "AQiyue2-Zzfk",
      "execution_count": 24,
      "outputs": [
        {
          "output_type": "execute_result",
          "data": {
            "text/plain": [
              "                                                            496\n",
              "Pam Key                                                      65\n",
              "admin                                                        53\n",
              "Jerome Hudson                                                53\n",
              "Charlie Spiering                                             38\n",
              "                                                           ... \n",
              "Ted Loos                                                      1\n",
              "Julie Hirschfeld Davis, Michael D. Shear and Peter Baker      1\n",
              "Maria Afonina                                                 1\n",
              "Brian McNicoll                                                1\n",
              "Teddy Wayne                                                   1\n",
              "Name: author, Length: 1641, dtype: int64"
            ]
          },
          "metadata": {},
          "execution_count": 24
        }
      ]
    },
    {
      "cell_type": "code",
      "source": [
        "test.author.nunique()"
      ],
      "metadata": {
        "colab": {
          "base_uri": "https://localhost:8080/"
        },
        "id": "GPtW8T26SG0c",
        "outputId": "72361983-c99e-401b-a3e8-a0ea5b4cf26e"
      },
      "id": "GPtW8T26SG0c",
      "execution_count": 25,
      "outputs": [
        {
          "output_type": "execute_result",
          "data": {
            "text/plain": [
              "1641"
            ]
          },
          "metadata": {},
          "execution_count": 25
        }
      ]
    },
    {
      "cell_type": "markdown",
      "source": [
        "There are similar authors with multiple articles in the train set and test set. This variable is relevant for prediction"
      ],
      "metadata": {
        "id": "kUHr42knZ1Ym"
      },
      "id": "kUHr42knZ1Ym"
    },
    {
      "cell_type": "markdown",
      "source": [
        "### **Data Preprocessing**"
      ],
      "metadata": {
        "id": "ziQYc196akt7"
      },
      "id": "ziQYc196akt7"
    },
    {
      "cell_type": "code",
      "source": [
        "# Merging the author and title columns\n",
        "\n",
        "train['text'] = train['author'] + ' ' + train['text']"
      ],
      "metadata": {
        "id": "GfLlW1k0aij8"
      },
      "id": "GfLlW1k0aij8",
      "execution_count": 26,
      "outputs": []
    },
    {
      "cell_type": "code",
      "source": [
        "print(train['text'])"
      ],
      "metadata": {
        "colab": {
          "base_uri": "https://localhost:8080/"
        },
        "id": "7xOSVpAQaigt",
        "outputId": "8f8483e8-1a06-49b4-a12c-ee222905dd99"
      },
      "id": "7xOSVpAQaigt",
      "execution_count": 27,
      "outputs": [
        {
          "output_type": "stream",
          "name": "stdout",
          "text": [
            "0        Darrell Lucus House Dem Aide: We Didn’t Even S...\n",
            "1        Daniel J. Flynn Ever get the feeling your life...\n",
            "2        Consortiumnews.com Why the Truth Might Get You...\n",
            "3        Jessica Purkiss Videos 15 Civilians Killed In ...\n",
            "4        Howard Portnoy Print \\nAn Iranian woman has be...\n",
            "                               ...                        \n",
            "19799    Lee Stranahan Donald Trump took to Twitter Fri...\n",
            "19800    Jerome Hudson Rapper T. I. unloaded on black c...\n",
            "19801    Benjamin Hoffman When the Green Bay Packers lo...\n",
            "19802    Michael J. de la Merced and Rachel Abrams The ...\n",
            "19803    Alex Ansary NATO, Russia To Hold Parallel Exer...\n",
            "Name: text, Length: 19804, dtype: object\n"
          ]
        }
      ]
    },
    {
      "cell_type": "code",
      "source": [
        "# Merging the author and test columns on the test set\n",
        "\n",
        "test['text'] = test['author'] + ' ' + test['text']"
      ],
      "metadata": {
        "id": "Q2X43LqWaicA"
      },
      "id": "Q2X43LqWaicA",
      "execution_count": 28,
      "outputs": []
    },
    {
      "cell_type": "code",
      "source": [
        "test['text'].head()"
      ],
      "metadata": {
        "colab": {
          "base_uri": "https://localhost:8080/"
        },
        "id": "FzV92M2taiZU",
        "outputId": "0b056108-4cd2-449f-9bb6-eb81e33daa4e"
      },
      "id": "FzV92M2taiZU",
      "execution_count": 29,
      "outputs": [
        {
          "output_type": "execute_result",
          "data": {
            "text/plain": [
              "0    David Streitfeld PALO ALTO, Calif.  —   After ...\n",
              "1     Russian warships ready to strike terrorists n...\n",
              "2    Common Dreams Videos #NoDAPL: Native American ...\n",
              "3    Daniel Victor If at first you don’t succeed, t...\n",
              "4    Truth Broadcast Network 42 mins ago 1 Views 0 ...\n",
              "Name: text, dtype: object"
            ]
          },
          "metadata": {},
          "execution_count": 29
        }
      ]
    },
    {
      "cell_type": "markdown",
      "source": [
        "##### Lemmatization"
      ],
      "metadata": {
        "id": "7h-I_4GjLUXy"
      },
      "id": "7h-I_4GjLUXy"
    },
    {
      "cell_type": "code",
      "source": [
        "# This function removes numbers, punctuation marks, converts the text to lowercase and reduces words to their root words\n",
        "\n",
        "lemmatizer = WordNetLemmatizer() # Links words into semantic relations\n",
        "stop_words = list(stopwords.words('english'))\n",
        "\n",
        "# Train data\n",
        "\n",
        "for x in range(len(train)) :\n",
        "    corpus = []\n",
        "    review = train['text'][x]\n",
        "    review = re.sub(r'[^a-zA-Z\\s]', '', review)\n",
        "    review = review.lower()\n",
        "    review = nltk.word_tokenize(review)\n",
        "    for y in review :\n",
        "        if y not in stop_words :\n",
        "            corpus.append(lemmatizer.lemmatize(y))\n",
        "    review = ' '.join(corpus)\n",
        "    train['text'][x] = review      "
      ],
      "metadata": {
        "id": "EhXsAPWGaiV5"
      },
      "id": "EhXsAPWGaiV5",
      "execution_count": 30,
      "outputs": []
    },
    {
      "cell_type": "code",
      "source": [
        "train['text'].head()"
      ],
      "metadata": {
        "colab": {
          "base_uri": "https://localhost:8080/"
        },
        "id": "2yQX-2x2aiS6",
        "outputId": "7598f989-dad5-4187-c538-2ea862e2b341"
      },
      "id": "2yQX-2x2aiS6",
      "execution_count": 31,
      "outputs": [
        {
          "output_type": "execute_result",
          "data": {
            "text/plain": [
              "0    darrell lucus house dem aide didnt even see co...\n",
              "1    daniel j flynn ever get feeling life circle ro...\n",
              "2    consortiumnewscom truth might get fired octobe...\n",
              "3    jessica purkiss video civilian killed single u...\n",
              "4    howard portnoy print iranian woman sentenced s...\n",
              "Name: text, dtype: object"
            ]
          },
          "metadata": {},
          "execution_count": 31
        }
      ]
    },
    {
      "cell_type": "code",
      "source": [
        "# Lemmatization of the test data \n",
        "\n",
        "for p in range(len(test)) :\n",
        "    corpus = []\n",
        "    review = test['text'][p]\n",
        "    review = re.sub(r'[^a-zA-Z\\s]', '', review)\n",
        "    review = review.lower()\n",
        "    review = nltk.word_tokenize(review)\n",
        "    for y in review :\n",
        "        if y not in stop_words :\n",
        "            corpus.append(lemmatizer.lemmatize(y))\n",
        "    review = ' '.join(corpus)\n",
        "    test['text'][p] = review  \n",
        "\n",
        "P = test['text'] "
      ],
      "metadata": {
        "id": "kl7BxL9sNrP6"
      },
      "id": "kl7BxL9sNrP6",
      "execution_count": 32,
      "outputs": []
    },
    {
      "cell_type": "markdown",
      "source": [
        "##### Vectorization"
      ],
      "metadata": {
        "id": "NqV41sLXckbv"
      },
      "id": "NqV41sLXckbv"
    },
    {
      "cell_type": "code",
      "source": [
        "# Defining the predictor and response variables\n",
        "\n",
        "X = train['text'].values\n",
        "Y = train['label'].values"
      ],
      "metadata": {
        "id": "zQ8_YPZ5aiPg"
      },
      "id": "zQ8_YPZ5aiPg",
      "execution_count": 33,
      "outputs": []
    },
    {
      "cell_type": "code",
      "source": [
        "# Converting text into numbers\n",
        "\n",
        "vectorizer = TfidfVectorizer()\n",
        "vectorizer.fit(X)\n",
        "\n",
        "# Train data\n",
        "\n",
        "X = vectorizer.transform(X)\n",
        "\n",
        "print(X)"
      ],
      "metadata": {
        "id": "cETjSZ0ScjIJ",
        "colab": {
          "base_uri": "https://localhost:8080/"
        },
        "outputId": "7b5821ed-e4d6-4439-c9bc-71c376d65b25"
      },
      "id": "cETjSZ0ScjIJ",
      "execution_count": 34,
      "outputs": [
        {
          "output_type": "stream",
          "name": "stdout",
          "text": [
            "  (0, 162755)\t0.050436438406085735\n",
            "  (0, 162635)\t0.009861617799785208\n",
            "  (0, 161420)\t0.045601845019642304\n",
            "  (0, 161408)\t0.07332573083938157\n",
            "  (0, 161276)\t0.038849045670666896\n",
            "  (0, 161203)\t0.013545016522383312\n",
            "  (0, 160469)\t0.06177153005343979\n",
            "  (0, 159373)\t0.02162202849406224\n",
            "  (0, 159160)\t0.017476717419419877\n",
            "  (0, 158926)\t0.012697285153678432\n",
            "  (0, 158812)\t0.03469258113345222\n",
            "  (0, 158692)\t0.06177153005343979\n",
            "  (0, 158399)\t0.012056689289357695\n",
            "  (0, 157202)\t0.029276734044355907\n",
            "  (0, 157171)\t0.0224107029835225\n",
            "  (0, 157106)\t0.0174969098698063\n",
            "  (0, 155791)\t0.02220039859707576\n",
            "  (0, 154024)\t0.0673512572727459\n",
            "  (0, 152871)\t0.03570735890881373\n",
            "  (0, 152534)\t0.01780603703413158\n",
            "  (0, 151369)\t0.041701779861394644\n",
            "  (0, 150537)\t0.011399330875989629\n",
            "  (0, 150511)\t0.0449996206389361\n",
            "  (0, 150408)\t0.05830142943357925\n",
            "  (0, 150406)\t0.07713766157212253\n",
            "  :\t:\n",
            "  (19803, 35151)\t0.03367295518601229\n",
            "  (19803, 34161)\t0.01895484894095927\n",
            "  (19803, 30997)\t0.0489383990770253\n",
            "  (19803, 30961)\t0.06147047108491759\n",
            "  (19803, 29370)\t0.0452749518528876\n",
            "  (19803, 28656)\t0.05242728040168287\n",
            "  (19803, 25152)\t0.04063837923322765\n",
            "  (19803, 24352)\t0.04594116460673714\n",
            "  (19803, 19337)\t0.06169966455079303\n",
            "  (19803, 15394)\t0.04575666914218498\n",
            "  (19803, 13953)\t0.07369420793305304\n",
            "  (19803, 13729)\t0.034347491633980126\n",
            "  (19803, 13441)\t0.031130066538374898\n",
            "  (19803, 11874)\t0.1917681767030918\n",
            "  (19803, 10898)\t0.05364094286407259\n",
            "  (19803, 9864)\t0.027842543925316866\n",
            "  (19803, 9744)\t0.05093757493350708\n",
            "  (19803, 6461)\t0.06462625098824996\n",
            "  (19803, 4396)\t0.035703583224463445\n",
            "  (19803, 4237)\t0.08736928251642814\n",
            "  (19803, 4154)\t0.04301017771001585\n",
            "  (19803, 3728)\t0.04687766296062442\n",
            "  (19803, 2947)\t0.0332838924609985\n",
            "  (19803, 1012)\t0.03555148148582599\n",
            "  (19803, 884)\t0.08030225691667095\n"
          ]
        }
      ]
    },
    {
      "cell_type": "code",
      "source": [
        "# Test data is only transformed\n",
        "\n",
        "P = vectorizer.transform(P) \n",
        "\n",
        "print(P)"
      ],
      "metadata": {
        "id": "v3fXyVoDQbfg",
        "colab": {
          "base_uri": "https://localhost:8080/"
        },
        "outputId": "90bfc07b-6e25-49dd-ca42-c696bba5b892"
      },
      "id": "v3fXyVoDQbfg",
      "execution_count": 35,
      "outputs": [
        {
          "output_type": "stream",
          "name": "stdout",
          "text": [
            "  (0, 163106)\t0.013134884863498859\n",
            "  (0, 162867)\t0.013574906990888378\n",
            "  (0, 162635)\t0.008385412743798594\n",
            "  (0, 161665)\t0.014768852643262253\n",
            "  (0, 161447)\t0.032804362449606\n",
            "  (0, 161371)\t0.02199892635100618\n",
            "  (0, 161351)\t0.023891660009469646\n",
            "  (0, 161276)\t0.011011218418216638\n",
            "  (0, 161250)\t0.028760561287399122\n",
            "  (0, 161218)\t0.01803080472485452\n",
            "  (0, 161203)\t0.011517436232849076\n",
            "  (0, 160039)\t0.018091440790563386\n",
            "  (0, 160009)\t0.033794099796153186\n",
            "  (0, 159841)\t0.015304272321770793\n",
            "  (0, 159458)\t0.01937955540710635\n",
            "  (0, 159160)\t0.044581779159529655\n",
            "  (0, 158926)\t0.03238981034378117\n",
            "  (0, 158680)\t0.022338931031091868\n",
            "  (0, 158630)\t0.017837764235410048\n",
            "  (0, 158399)\t0.010251899644417577\n",
            "  (0, 158138)\t0.027022408999562233\n",
            "  (0, 157864)\t0.03267929213250047\n",
            "  (0, 157861)\t0.011222468319699063\n",
            "  (0, 157706)\t0.016848268907827178\n",
            "  (0, 157679)\t0.020881548144559937\n",
            "  :\t:\n",
            "  (5056, 6693)\t0.04847160115449645\n",
            "  (5056, 6440)\t0.022676721403006358\n",
            "  (5056, 6191)\t0.022959956730511773\n",
            "  (5056, 6060)\t0.04550093052665265\n",
            "  (5056, 5615)\t0.035108745837130084\n",
            "  (5056, 4933)\t0.014584620198415787\n",
            "  (5056, 4728)\t0.02441878518717645\n",
            "  (5056, 4564)\t0.03254161508045882\n",
            "  (5056, 4558)\t0.03978027544822758\n",
            "  (5056, 4549)\t0.018638951937859746\n",
            "  (5056, 3706)\t0.031437687705799834\n",
            "  (5056, 2916)\t0.022644839230547147\n",
            "  (5056, 2614)\t0.02815566498125582\n",
            "  (5056, 2553)\t0.022525621678684445\n",
            "  (5056, 2483)\t0.01558111010245739\n",
            "  (5056, 2299)\t0.034416388162116125\n",
            "  (5056, 2023)\t0.03819901102941624\n",
            "  (5056, 1842)\t0.028451008055444572\n",
            "  (5056, 1563)\t0.013099347146194026\n",
            "  (5056, 1496)\t0.1137934085575181\n",
            "  (5056, 1408)\t0.021339494052493375\n",
            "  (5056, 1330)\t0.02134572289259687\n",
            "  (5056, 890)\t0.0250058007342807\n",
            "  (5056, 860)\t0.027130811903851384\n",
            "  (5056, 178)\t0.03636360729389668\n"
          ]
        }
      ]
    },
    {
      "cell_type": "markdown",
      "source": [
        "### **Data Modeling**"
      ],
      "metadata": {
        "id": "eIV7EdB4ctIf"
      },
      "id": "eIV7EdB4ctIf"
    },
    {
      "cell_type": "code",
      "source": [
        "# Split the train to get a validation set\n",
        "\n",
        "x_train, x_valid, y_train, y_valid = train_test_split(X, Y, test_size=0.3, stratify=Y)"
      ],
      "metadata": {
        "id": "HxrhuF36csc_"
      },
      "id": "HxrhuF36csc_",
      "execution_count": 36,
      "outputs": []
    },
    {
      "cell_type": "markdown",
      "source": [
        "##### Finding base models "
      ],
      "metadata": {
        "id": "BUmDfgD_zxcx"
      },
      "id": "BUmDfgD_zxcx"
    },
    {
      "cell_type": "code",
      "source": [
        "# Putting models into a dictionary\n",
        "\n",
        "models = {\"Logistic Regression\" : LogisticRegression(),\n",
        "          \"Random Forest\" : RandomForestClassifier(),\n",
        "          \"Linear SVC\" : LinearSVC(),\n",
        "          \"XGBoost Classifier\": XGBClassifier(),\n",
        "          \"Ridge Classifier\" : RidgeClassifier (),\n",
        "          \"SGD Classifier\" : SGDClassifier(),\n",
        "          }\n",
        "          \n",
        "# Function that will fit and score models\n",
        "\n",
        "def fit_and_score(models, x_train,x_valid,y_train,y_valid):\n",
        "    \"\"\"\n",
        "    fits and evaluates given machine learning models\n",
        "    models : a dictionary of different ML models\n",
        "    x_train : training data (no labels)\n",
        "    x_valid : validation data (no labels)\n",
        "    y_train : training labels\n",
        "    y_valid : validation labels\n",
        "    \"\"\"\n",
        "    # Setting up a random seed\n",
        "\n",
        "    random_state=42\n",
        " \n",
        "    # Making a dictionary to keep model scores\n",
        "\n",
        "    model_scores = {}\n",
        "\n",
        "    # Looping through models\n",
        "    \n",
        "    for name, model in models.items():\n",
        "        # Fitting the models to the data\n",
        "        model.fit(x_train, y_train)\n",
        "        # Evaluating the model and appending its score to model_scores\n",
        "        model_scores[name] = model.score(x_valid, y_valid)\n",
        "    return model_scores"
      ],
      "metadata": {
        "id": "lqzoJuSKcjE9"
      },
      "id": "lqzoJuSKcjE9",
      "execution_count": 37,
      "outputs": []
    },
    {
      "cell_type": "code",
      "source": [
        "%%time\n",
        "scores = fit_and_score(models = models,\n",
        "                      x_train = x_train,\n",
        "                      x_valid = x_valid,\n",
        "                      y_train = y_train,\n",
        "                      y_valid = y_valid)\n",
        "scores"
      ],
      "metadata": {
        "colab": {
          "base_uri": "https://localhost:8080/"
        },
        "id": "ybEU8gsdcjBY",
        "outputId": "69c3685c-721e-4240-f159-fc77b862aab0"
      },
      "id": "ybEU8gsdcjBY",
      "execution_count": 38,
      "outputs": [
        {
          "output_type": "stream",
          "name": "stdout",
          "text": [
            "CPU times: user 2min 23s, sys: 7.35 s, total: 2min 30s\n",
            "Wall time: 2min 37s\n"
          ]
        },
        {
          "output_type": "execute_result",
          "data": {
            "text/plain": [
              "{'Logistic Regression': 0.945304611242006,\n",
              " 'Random Forest': 0.9027263547627061,\n",
              " 'Linear SVC': 0.9616290811174689,\n",
              " 'XGBoost Classifier': 0.928475260854931,\n",
              " 'Ridge Classifier': 0.9621339616290812,\n",
              " 'SGD Classifier': 0.9599461460787614}"
            ]
          },
          "metadata": {},
          "execution_count": 38
        }
      ]
    },
    {
      "cell_type": "markdown",
      "source": [
        "##### Comparing the models"
      ],
      "metadata": {
        "id": "1Ncq8G_7dUBI"
      },
      "id": "1Ncq8G_7dUBI"
    },
    {
      "cell_type": "code",
      "source": [
        "# Visual comparison of the models\n",
        "\n",
        "model_compare = pd.DataFrame(scores, index=['Accuracy'])\n",
        "model_compare.T.plot.bar(color= 'firebrick');# Transpose to improve the plot"
      ],
      "metadata": {
        "colab": {
          "base_uri": "https://localhost:8080/",
          "height": 353
        },
        "id": "ODeyFYH1ci9v",
        "outputId": "1602226b-9262-4815-cdb6-d6a0d6ab3925"
      },
      "id": "ODeyFYH1ci9v",
      "execution_count": 41,
      "outputs": [
        {
          "output_type": "display_data",
          "data": {
            "text/plain": [
              "<Figure size 432x288 with 1 Axes>"
            ],
            "image/png": "[encoded data removed]"
          },
          "metadata": {
            "needs_background": "light"
          }
        }
      ]
    },
    {
      "cell_type": "markdown",
      "source": [
        "Ridge Classifier, Linear SVC and SGD Classifier have the highest accuracy scores"
      ],
      "metadata": {
        "id": "QZ84vi6weo4R"
      },
      "id": "QZ84vi6weo4R"
    }
  ],
  "metadata": {
    "colab": {
      "provenance": [],
      "collapsed_sections": [
        "mMrPHVI9zBjK",
        "qy7_RScdcEuH",
        "dYh3PhxJI4HS"
      ]
    },
    "kernelspec": {
      "display_name": "Python 3 (ipykernel)",
      "language": "python",
      "name": "python3"
    },
    "language_info": {
      "codemirror_mode": {
        "name": "ipython",
        "version": 3
      },
      "file_extension": ".py",
      "mimetype": "text/x-python",
      "name": "python",
      "nbconvert_exporter": "python",
      "pygments_lexer": "ipython3",
      "version": "3.9.7"
    }
  },
  "nbformat": 4,
  "nbformat_minor": 5
}