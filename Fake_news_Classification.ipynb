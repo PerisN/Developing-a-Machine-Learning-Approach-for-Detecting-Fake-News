{
  "cells": [
    {
      "cell_type": "markdown",
      "metadata": {
        "id": "_Mi6sXein1O3"
      },
      "source": [
        "# **Fake News Prediction**"
      ],
      "id": "_Mi6sXein1O3"
    },
    {
      "cell_type": "code",
      "execution_count": null,
      "metadata": {
        "id": "ie7UxNpnCRjR"
      },
      "outputs": [],
      "source": [
        "pip install opendatasets --upgrade"
      ],
      "id": "ie7UxNpnCRjR"
    },
    {
      "cell_type": "code",
      "execution_count": null,
      "metadata": {
        "id": "0bb6e1d6"
      },
      "outputs": [],
      "source": [
        "# Import Libraries\n",
        "\n",
        "import pandas as pd\n",
        "import numpy as np\n",
        "\n",
        "from scipy.stats import randint\n",
        "from scipy.stats import uniform\n",
        "\n",
        "import re\n",
        "import string\n",
        "import nltk\n",
        "nltk.download('stopwords')\n",
        "nltk.download('punkt')\n",
        "nltk.download('wordnet')\n",
        "nltk.download('omw-1.4')\n",
        "from nltk.corpus import stopwords\n",
        "from nltk.tokenize import word_tokenize\n",
        "from nltk.stem import WordNetLemmatizer\n",
        "\n",
        "from sklearn.feature_extraction.text import TfidfVectorizer \n",
        "from sklearn.model_selection import train_test_split, RepeatedStratifiedKFold, StratifiedKFold, cross_val_predict, cross_val_score, RandomizedSearchCV\n",
        "from sklearn.linear_model import LogisticRegression, RidgeClassifier, SGDClassifier\n",
        "from sklearn.ensemble import RandomForestClassifier\n",
        "import xgboost as xgb\n",
        "from xgboost import XGBClassifier\n",
        "from sklearn.svm import LinearSVC\n",
        "from sklearn.manifold import TSNE\n",
        "from sklearn.metrics import f1_score, accuracy_score, roc_auc_score, roc_curve, classification_report, confusion_matrix, ConfusionMatrixDisplay\n",
        "\n",
        "import seaborn as sns\n",
        "import plotly.express as px\n",
        "import matplotlib.pyplot as plt\n",
        "%matplotlib inline\n",
        "\n",
        "colors = ['firebrick', 'tomato']\n",
        "\n",
        "import warnings\n",
        "warnings.filterwarnings('ignore')"
      ],
      "id": "0bb6e1d6"
    },
    {
      "cell_type": "markdown",
      "metadata": {
        "id": "mMrPHVI9zBjK"
      },
      "source": [
        "##### Loading Data"
      ],
      "id": "mMrPHVI9zBjK"
    },
    {
      "cell_type": "code",
      "execution_count": null,
      "metadata": {
        "colab": {
          "base_uri": "https://localhost:8080/"
        },
        "id": "KUGaxfsepxOl",
        "outputId": "f725558b-33ec-4231-b78d-23165ccb99fc"
      },
      "outputs": [
        {
          "name": "stdout",
          "output_type": "stream",
          "text": [
            "Please provide your Kaggle credentials to download this dataset. Learn more: http://bit.ly/kaggle-creds\n",
            "Your Kaggle username: periswangari\n",
            "Your Kaggle Key: ··········\n",
            "Downloading fake-news.zip to ./fake-news\n"
          ]
        },
        {
          "name": "stderr",
          "output_type": "stream",
          "text": [
            "100%|██████████| 46.5M/46.5M [00:02<00:00, 19.4MB/s]\n"
          ]
        },
        {
          "name": "stdout",
          "output_type": "stream",
          "text": [
            "\n",
            "Extracting archive ./fake-news/fake-news.zip to ./fake-news\n"
          ]
        }
      ],
      "source": [
        "import opendatasets as od\n",
        "\n",
        "od.download(\"https://www.kaggle.com/competitions/fake-news/data\")"
      ],
      "id": "KUGaxfsepxOl"
    },
    {
      "cell_type": "code",
      "execution_count": null,
      "metadata": {
        "id": "lcKXGV39qxqP"
      },
      "outputs": [],
      "source": [
        "import os\n",
        "dir = \"./fake-news\"\n",
        "os.listdir(dir)\n",
        "\n",
        "train_dir = dir + \"/train.csv\"\n",
        "test_dir = dir + \"/test.csv\""
      ],
      "id": "lcKXGV39qxqP"
    },
    {
      "cell_type": "code",
      "execution_count": null,
      "metadata": {
        "id": "hfW-X2GWsY4Q"
      },
      "outputs": [],
      "source": [
        "train = pd.read_csv(train_dir)\n",
        "test = pd.read_csv(test_dir)"
      ],
      "id": "hfW-X2GWsY4Q"
    },
    {
      "cell_type": "markdown",
      "metadata": {
        "id": "qy7_RScdcEuH"
      },
      "source": [
        "### **Understanding the data**"
      ],
      "id": "qy7_RScdcEuH"
    },
    {
      "cell_type": "code",
      "execution_count": null,
      "metadata": {
        "colab": {
          "base_uri": "https://localhost:8080/"
        },
        "id": "F0gwu0VmFJYM",
        "outputId": "5b2dca9a-642d-4c6b-b872-7777b4ce11b3"
      },
      "outputs": [
        {
          "name": "stdout",
          "output_type": "stream",
          "text": [
            "Size of train set:  (20800, 5)\n",
            "Size of test set:  (5200, 4)\n"
          ]
        }
      ],
      "source": [
        "# Check the shape of the train and test sets\n",
        "\n",
        "print(\"Size of train set: \", train.shape)\n",
        "print(\"Size of test set: \", test.shape)"
      ],
      "id": "F0gwu0VmFJYM"
    },
    {
      "cell_type": "code",
      "execution_count": null,
      "metadata": {
        "colab": {
          "base_uri": "https://localhost:8080/"
        },
        "id": "1e29d5cb",
        "outputId": "a6c00d38-759a-4b32-adb9-449a84a82b0f"
      },
      "outputs": [
        {
          "data": {
            "text/html": [
              "\n",
              "  <div id=\"df-4e96fa3a-6a5c-453a-a6c7-7b114f8d21cd\">\n",
              "    <div class=\"colab-df-container\">\n",
              "      <div>\n",
              "<style scoped>\n",
              "    .dataframe tbody tr th:only-of-type {\n",
              "        vertical-align: middle;\n",
              "    }\n",
              "\n",
              "    .dataframe tbody tr th {\n",
              "        vertical-align: top;\n",
              "    }\n",
              "\n",
              "    .dataframe thead th {\n",
              "        text-align: right;\n",
              "    }\n",
              "</style>\n",
              "<table border=\"1\" class=\"dataframe\">\n",
              "  <thead>\n",
              "    <tr style=\"text-align: right;\">\n",
              "      <th></th>\n",
              "      <th>id</th>\n",
              "      <th>title</th>\n",
              "      <th>author</th>\n",
              "      <th>text</th>\n",
              "      <th>label</th>\n",
              "    </tr>\n",
              "  </thead>\n",
              "  <tbody>\n",
              "    <tr>\n",
              "      <th>0</th>\n",
              "      <td>0</td>\n",
              "      <td>House Dem Aide: We Didn’t Even See Comey’s Let...</td>\n",
              "      <td>Darrell Lucus</td>\n",
              "      <td>House Dem Aide: We Didn’t Even See Comey’s Let...</td>\n",
              "      <td>1</td>\n",
              "    </tr>\n",
              "    <tr>\n",
              "      <th>1</th>\n",
              "      <td>1</td>\n",
              "      <td>FLYNN: Hillary Clinton, Big Woman on Campus - ...</td>\n",
              "      <td>Daniel J. Flynn</td>\n",
              "      <td>Ever get the feeling your life circles the rou...</td>\n",
              "      <td>0</td>\n",
              "    </tr>\n",
              "    <tr>\n",
              "      <th>2</th>\n",
              "      <td>2</td>\n",
              "      <td>Why the Truth Might Get You Fired</td>\n",
              "      <td>Consortiumnews.com</td>\n",
              "      <td>Why the Truth Might Get You Fired October 29, ...</td>\n",
              "      <td>1</td>\n",
              "    </tr>\n",
              "    <tr>\n",
              "      <th>3</th>\n",
              "      <td>3</td>\n",
              "      <td>15 Civilians Killed In Single US Airstrike Hav...</td>\n",
              "      <td>Jessica Purkiss</td>\n",
              "      <td>Videos 15 Civilians Killed In Single US Airstr...</td>\n",
              "      <td>1</td>\n",
              "    </tr>\n",
              "    <tr>\n",
              "      <th>4</th>\n",
              "      <td>4</td>\n",
              "      <td>Iranian woman jailed for fictional unpublished...</td>\n",
              "      <td>Howard Portnoy</td>\n",
              "      <td>Print \\nAn Iranian woman has been sentenced to...</td>\n",
              "      <td>1</td>\n",
              "    </tr>\n",
              "  </tbody>\n",
              "</table>\n",
              "</div>\n",
              "      <button class=\"colab-df-convert\" onclick=\"convertToInteractive('df-4e96fa3a-6a5c-453a-a6c7-7b114f8d21cd')\"\n",
              "              title=\"Convert this dataframe to an interactive table.\"\n",
              "              style=\"display:none;\">\n",
              "        \n",
              "  <svg xmlns=\"http://www.w3.org/2000/svg\" height=\"24px\"viewBox=\"0 0 24 24\"\n",
              "       width=\"24px\">\n",
              "    <path d=\"M0 0h24v24H0V0z\" fill=\"none\"/>\n",
              "    <path d=\"M18.56 5.44l.94 2.06.94-2.06 2.06-.94-2.06-.94-.94-2.06-.94 2.06-2.06.94zm-11 1L8.5 8.5l.94-2.06 2.06-.94-2.06-.94L8.5 2.5l-.94 2.06-2.06.94zm10 10l.94 2.06.94-2.06 2.06-.94-2.06-.94-.94-2.06-.94 2.06-2.06.94z\"/><path d=\"M17.41 7.96l-1.37-1.37c-.4-.4-.92-.59-1.43-.59-.52 0-1.04.2-1.43.59L10.3 9.45l-7.72 7.72c-.78.78-.78 2.05 0 2.83L4 21.41c.39.39.9.59 1.41.59.51 0 1.02-.2 1.41-.59l7.78-7.78 2.81-2.81c.8-.78.8-2.07 0-2.86zM5.41 20L4 18.59l7.72-7.72 1.47 1.35L5.41 20z\"/>\n",
              "  </svg>\n",
              "      </button>\n",
              "      \n",
              "  <style>\n",
              "    .colab-df-container {\n",
              "      display:flex;\n",
              "      flex-wrap:wrap;\n",
              "      gap: 12px;\n",
              "    }\n",
              "\n",
              "    .colab-df-convert {\n",
              "      background-color: #E8F0FE;\n",
              "      border: none;\n",
              "      border-radius: 50%;\n",
              "      cursor: pointer;\n",
              "      display: none;\n",
              "      fill: #1967D2;\n",
              "      height: 32px;\n",
              "      padding: 0 0 0 0;\n",
              "      width: 32px;\n",
              "    }\n",
              "\n",
              "    .colab-df-convert:hover {\n",
              "      background-color: #E2EBFA;\n",
              "      box-shadow: 0px 1px 2px rgba(60, 64, 67, 0.3), 0px 1px 3px 1px rgba(60, 64, 67, 0.15);\n",
              "      fill: #174EA6;\n",
              "    }\n",
              "\n",
              "    [theme=dark] .colab-df-convert {\n",
              "      background-color: #3B4455;\n",
              "      fill: #D2E3FC;\n",
              "    }\n",
              "\n",
              "    [theme=dark] .colab-df-convert:hover {\n",
              "      background-color: #434B5C;\n",
              "      box-shadow: 0px 1px 3px 1px rgba(0, 0, 0, 0.15);\n",
              "      filter: drop-shadow(0px 1px 2px rgba(0, 0, 0, 0.3));\n",
              "      fill: #FFFFFF;\n",
              "    }\n",
              "  </style>\n",
              "\n",
              "      <script>\n",
              "        const buttonEl =\n",
              "          document.querySelector('#df-4e96fa3a-6a5c-453a-a6c7-7b114f8d21cd button.colab-df-convert');\n",
              "        buttonEl.style.display =\n",
              "          google.colab.kernel.accessAllowed ? 'block' : 'none';\n",
              "\n",
              "        async function convertToInteractive(key) {\n",
              "          const element = document.querySelector('#df-4e96fa3a-6a5c-453a-a6c7-7b114f8d21cd');\n",
              "          const dataTable =\n",
              "            await google.colab.kernel.invokeFunction('convertToInteractive',\n",
              "                                                     [key], {});\n",
              "          if (!dataTable) return;\n",
              "\n",
              "          const docLinkHtml = 'Like what you see? Visit the ' +\n",
              "            '<a target=\"_blank\" href=https://colab.research.google.com/notebooks/data_table.ipynb>data table notebook</a>'\n",
              "            + ' to learn more about interactive tables.';\n",
              "          element.innerHTML = '';\n",
              "          dataTable['output_type'] = 'display_data';\n",
              "          await google.colab.output.renderOutput(dataTable, element);\n",
              "          const docLink = document.createElement('div');\n",
              "          docLink.innerHTML = docLinkHtml;\n",
              "          element.appendChild(docLink);\n",
              "        }\n",
              "      </script>\n",
              "    </div>\n",
              "  </div>\n",
              "  "
            ],
            "text/plain": [
              "   id                                              title              author  \\\n",
              "0   0  House Dem Aide: We Didn’t Even See Comey’s Let...       Darrell Lucus   \n",
              "1   1  FLYNN: Hillary Clinton, Big Woman on Campus - ...     Daniel J. Flynn   \n",
              "2   2                  Why the Truth Might Get You Fired  Consortiumnews.com   \n",
              "3   3  15 Civilians Killed In Single US Airstrike Hav...     Jessica Purkiss   \n",
              "4   4  Iranian woman jailed for fictional unpublished...      Howard Portnoy   \n",
              "\n",
              "                                                text  label  \n",
              "0  House Dem Aide: We Didn’t Even See Comey’s Let...      1  \n",
              "1  Ever get the feeling your life circles the rou...      0  \n",
              "2  Why the Truth Might Get You Fired October 29, ...      1  \n",
              "3  Videos 15 Civilians Killed In Single US Airstr...      1  \n",
              "4  Print \\nAn Iranian woman has been sentenced to...      1  "
            ]
          },
          "execution_count": 7,
          "metadata": {},
          "output_type": "execute_result"
        }
      ],
      "source": [
        "# Print the first 5 rows\n",
        "\n",
        "train.head()"
      ],
      "id": "1e29d5cb"
    },
    {
      "cell_type": "code",
      "execution_count": null,
      "metadata": {
        "colab": {
          "base_uri": "https://localhost:8080/"
        },
        "id": "-0gQBz14Ezkl",
        "outputId": "fa32b1de-3728-406f-de10-aec845f756a8"
      },
      "outputs": [
        {
          "name": "stdout",
          "output_type": "stream",
          "text": [
            "<class 'pandas.core.frame.DataFrame'>\n",
            "RangeIndex: 20800 entries, 0 to 20799\n",
            "Data columns (total 5 columns):\n",
            " #   Column  Non-Null Count  Dtype \n",
            "---  ------  --------------  ----- \n",
            " 0   id      20800 non-null  int64 \n",
            " 1   title   20242 non-null  object\n",
            " 2   author  18843 non-null  object\n",
            " 3   text    20761 non-null  object\n",
            " 4   label   20800 non-null  int64 \n",
            "dtypes: int64(2), object(3)\n",
            "memory usage: 812.6+ KB\n"
          ]
        }
      ],
      "source": [
        "# Data description\n",
        "\n",
        "train.info()"
      ],
      "id": "-0gQBz14Ezkl"
    },
    {
      "cell_type": "code",
      "execution_count": null,
      "metadata": {
        "colab": {
          "base_uri": "https://localhost:8080/"
        },
        "id": "909cd3c4",
        "outputId": "c174150c-f8ad-4a1d-ec97-704c14bb678f"
      },
      "outputs": [
        {
          "data": {
            "text/html": [
              "\n",
              "  <div id=\"df-a1361d7b-50f5-4a83-85ce-c83414977d44\">\n",
              "    <div class=\"colab-df-container\">\n",
              "      <div>\n",
              "<style scoped>\n",
              "    .dataframe tbody tr th:only-of-type {\n",
              "        vertical-align: middle;\n",
              "    }\n",
              "\n",
              "    .dataframe tbody tr th {\n",
              "        vertical-align: top;\n",
              "    }\n",
              "\n",
              "    .dataframe thead th {\n",
              "        text-align: right;\n",
              "    }\n",
              "</style>\n",
              "<table border=\"1\" class=\"dataframe\">\n",
              "  <thead>\n",
              "    <tr style=\"text-align: right;\">\n",
              "      <th></th>\n",
              "      <th>id</th>\n",
              "      <th>title</th>\n",
              "      <th>author</th>\n",
              "      <th>text</th>\n",
              "    </tr>\n",
              "  </thead>\n",
              "  <tbody>\n",
              "    <tr>\n",
              "      <th>0</th>\n",
              "      <td>20800</td>\n",
              "      <td>Specter of Trump Loosens Tongues, if Not Purse...</td>\n",
              "      <td>David Streitfeld</td>\n",
              "      <td>PALO ALTO, Calif.  —   After years of scorning...</td>\n",
              "    </tr>\n",
              "    <tr>\n",
              "      <th>1</th>\n",
              "      <td>20801</td>\n",
              "      <td>Russian warships ready to strike terrorists ne...</td>\n",
              "      <td>NaN</td>\n",
              "      <td>Russian warships ready to strike terrorists ne...</td>\n",
              "    </tr>\n",
              "    <tr>\n",
              "      <th>2</th>\n",
              "      <td>20802</td>\n",
              "      <td>#NoDAPL: Native American Leaders Vow to Stay A...</td>\n",
              "      <td>Common Dreams</td>\n",
              "      <td>Videos #NoDAPL: Native American Leaders Vow to...</td>\n",
              "    </tr>\n",
              "    <tr>\n",
              "      <th>3</th>\n",
              "      <td>20803</td>\n",
              "      <td>Tim Tebow Will Attempt Another Comeback, This ...</td>\n",
              "      <td>Daniel Victor</td>\n",
              "      <td>If at first you don’t succeed, try a different...</td>\n",
              "    </tr>\n",
              "    <tr>\n",
              "      <th>4</th>\n",
              "      <td>20804</td>\n",
              "      <td>Keiser Report: Meme Wars (E995)</td>\n",
              "      <td>Truth Broadcast Network</td>\n",
              "      <td>42 mins ago 1 Views 0 Comments 0 Likes 'For th...</td>\n",
              "    </tr>\n",
              "  </tbody>\n",
              "</table>\n",
              "</div>\n",
              "      <button class=\"colab-df-convert\" onclick=\"convertToInteractive('df-a1361d7b-50f5-4a83-85ce-c83414977d44')\"\n",
              "              title=\"Convert this dataframe to an interactive table.\"\n",
              "              style=\"display:none;\">\n",
              "        \n",
              "  <svg xmlns=\"http://www.w3.org/2000/svg\" height=\"24px\"viewBox=\"0 0 24 24\"\n",
              "       width=\"24px\">\n",
              "    <path d=\"M0 0h24v24H0V0z\" fill=\"none\"/>\n",
              "    <path d=\"M18.56 5.44l.94 2.06.94-2.06 2.06-.94-2.06-.94-.94-2.06-.94 2.06-2.06.94zm-11 1L8.5 8.5l.94-2.06 2.06-.94-2.06-.94L8.5 2.5l-.94 2.06-2.06.94zm10 10l.94 2.06.94-2.06 2.06-.94-2.06-.94-.94-2.06-.94 2.06-2.06.94z\"/><path d=\"M17.41 7.96l-1.37-1.37c-.4-.4-.92-.59-1.43-.59-.52 0-1.04.2-1.43.59L10.3 9.45l-7.72 7.72c-.78.78-.78 2.05 0 2.83L4 21.41c.39.39.9.59 1.41.59.51 0 1.02-.2 1.41-.59l7.78-7.78 2.81-2.81c.8-.78.8-2.07 0-2.86zM5.41 20L4 18.59l7.72-7.72 1.47 1.35L5.41 20z\"/>\n",
              "  </svg>\n",
              "      </button>\n",
              "      \n",
              "  <style>\n",
              "    .colab-df-container {\n",
              "      display:flex;\n",
              "      flex-wrap:wrap;\n",
              "      gap: 12px;\n",
              "    }\n",
              "\n",
              "    .colab-df-convert {\n",
              "      background-color: #E8F0FE;\n",
              "      border: none;\n",
              "      border-radius: 50%;\n",
              "      cursor: pointer;\n",
              "      display: none;\n",
              "      fill: #1967D2;\n",
              "      height: 32px;\n",
              "      padding: 0 0 0 0;\n",
              "      width: 32px;\n",
              "    }\n",
              "\n",
              "    .colab-df-convert:hover {\n",
              "      background-color: #E2EBFA;\n",
              "      box-shadow: 0px 1px 2px rgba(60, 64, 67, 0.3), 0px 1px 3px 1px rgba(60, 64, 67, 0.15);\n",
              "      fill: #174EA6;\n",
              "    }\n",
              "\n",
              "    [theme=dark] .colab-df-convert {\n",
              "      background-color: #3B4455;\n",
              "      fill: #D2E3FC;\n",
              "    }\n",
              "\n",
              "    [theme=dark] .colab-df-convert:hover {\n",
              "      background-color: #434B5C;\n",
              "      box-shadow: 0px 1px 3px 1px rgba(0, 0, 0, 0.15);\n",
              "      filter: drop-shadow(0px 1px 2px rgba(0, 0, 0, 0.3));\n",
              "      fill: #FFFFFF;\n",
              "    }\n",
              "  </style>\n",
              "\n",
              "      <script>\n",
              "        const buttonEl =\n",
              "          document.querySelector('#df-a1361d7b-50f5-4a83-85ce-c83414977d44 button.colab-df-convert');\n",
              "        buttonEl.style.display =\n",
              "          google.colab.kernel.accessAllowed ? 'block' : 'none';\n",
              "\n",
              "        async function convertToInteractive(key) {\n",
              "          const element = document.querySelector('#df-a1361d7b-50f5-4a83-85ce-c83414977d44');\n",
              "          const dataTable =\n",
              "            await google.colab.kernel.invokeFunction('convertToInteractive',\n",
              "                                                     [key], {});\n",
              "          if (!dataTable) return;\n",
              "\n",
              "          const docLinkHtml = 'Like what you see? Visit the ' +\n",
              "            '<a target=\"_blank\" href=https://colab.research.google.com/notebooks/data_table.ipynb>data table notebook</a>'\n",
              "            + ' to learn more about interactive tables.';\n",
              "          element.innerHTML = '';\n",
              "          dataTable['output_type'] = 'display_data';\n",
              "          await google.colab.output.renderOutput(dataTable, element);\n",
              "          const docLink = document.createElement('div');\n",
              "          docLink.innerHTML = docLinkHtml;\n",
              "          element.appendChild(docLink);\n",
              "        }\n",
              "      </script>\n",
              "    </div>\n",
              "  </div>\n",
              "  "
            ],
            "text/plain": [
              "      id                                              title  \\\n",
              "0  20800  Specter of Trump Loosens Tongues, if Not Purse...   \n",
              "1  20801  Russian warships ready to strike terrorists ne...   \n",
              "2  20802  #NoDAPL: Native American Leaders Vow to Stay A...   \n",
              "3  20803  Tim Tebow Will Attempt Another Comeback, This ...   \n",
              "4  20804                    Keiser Report: Meme Wars (E995)   \n",
              "\n",
              "                    author                                               text  \n",
              "0         David Streitfeld  PALO ALTO, Calif.  —   After years of scorning...  \n",
              "1                      NaN  Russian warships ready to strike terrorists ne...  \n",
              "2            Common Dreams  Videos #NoDAPL: Native American Leaders Vow to...  \n",
              "3            Daniel Victor  If at first you don’t succeed, try a different...  \n",
              "4  Truth Broadcast Network  42 mins ago 1 Views 0 Comments 0 Likes 'For th...  "
            ]
          },
          "execution_count": 9,
          "metadata": {},
          "output_type": "execute_result"
        }
      ],
      "source": [
        "test.head()"
      ],
      "id": "909cd3c4"
    },
    {
      "cell_type": "code",
      "execution_count": null,
      "metadata": {
        "colab": {
          "base_uri": "https://localhost:8080/"
        },
        "id": "FU7X67eTGUOM",
        "outputId": "3ef60bd5-2f27-4442-e83a-f4f16bc3b493"
      },
      "outputs": [
        {
          "name": "stdout",
          "output_type": "stream",
          "text": [
            "<class 'pandas.core.frame.DataFrame'>\n",
            "RangeIndex: 5200 entries, 0 to 5199\n",
            "Data columns (total 4 columns):\n",
            " #   Column  Non-Null Count  Dtype \n",
            "---  ------  --------------  ----- \n",
            " 0   id      5200 non-null   int64 \n",
            " 1   title   5078 non-null   object\n",
            " 2   author  4697 non-null   object\n",
            " 3   text    5193 non-null   object\n",
            "dtypes: int64(1), object(3)\n",
            "memory usage: 162.6+ KB\n"
          ]
        }
      ],
      "source": [
        "test.info()"
      ],
      "id": "FU7X67eTGUOM"
    },
    {
      "cell_type": "code",
      "execution_count": null,
      "metadata": {
        "colab": {
          "base_uri": "https://localhost:8080/"
        },
        "id": "z3bY7FP0YPY7",
        "outputId": "f03c91a8-b044-4a8a-bacd-274bb356d8c6"
      },
      "outputs": [
        {
          "data": {
            "text/plain": [
              "1    10413\n",
              "0    10387\n",
              "Name: label, dtype: int64"
            ]
          },
          "execution_count": 11,
          "metadata": {},
          "output_type": "execute_result"
        }
      ],
      "source": [
        "# Target variable distribution\n",
        "\n",
        "train.label.value_counts()"
      ],
      "id": "z3bY7FP0YPY7"
    },
    {
      "cell_type": "code",
      "execution_count": null,
      "metadata": {
        "colab": {
          "base_uri": "https://localhost:8080/"
        },
        "id": "S6ytmYhtYqFQ",
        "outputId": "c372b349-e4d3-4724-e111-8075323b7ace"
      },
      "outputs": [
        {
          "data": {
            "image/png": "[encoded data removed]",
            "text/plain": [
              "<Figure size 432x288 with 1 Axes>"
            ]
          },
          "metadata": {},
          "output_type": "display_data"
        }
      ],
      "source": [
        "# Visualizing the target distribution\n",
        "\n",
        "sns.countplot(train['label'], palette=colors);"
      ],
      "id": "S6ytmYhtYqFQ"
    },
    {
      "cell_type": "markdown",
      "metadata": {
        "id": "z3NpoHsQYycv"
      },
      "source": [
        "The target variable is fairly balanced"
      ],
      "id": "z3NpoHsQYycv"
    },
    {
      "cell_type": "markdown",
      "metadata": {
        "id": "dYh3PhxJI4HS"
      },
      "source": [
        "### **Data Cleaning**"
      ],
      "id": "dYh3PhxJI4HS"
    },
    {
      "cell_type": "code",
      "execution_count": null,
      "metadata": {
        "colab": {
          "base_uri": "https://localhost:8080/"
        },
        "id": "8fd6cf67",
        "outputId": "9df21157-da96-4dc8-9c66-130fe3a2257c"
      },
      "outputs": [
        {
          "data": {
            "text/plain": [
              "id           0\n",
              "title      558\n",
              "author    1957\n",
              "text        39\n",
              "label        0\n",
              "dtype: int64"
            ]
          },
          "execution_count": 13,
          "metadata": {},
          "output_type": "execute_result"
        }
      ],
      "source": [
        "# Checking null instances\n",
        "\n",
        "train.isnull().sum()"
      ],
      "id": "8fd6cf67"
    },
    {
      "cell_type": "code",
      "execution_count": null,
      "metadata": {
        "colab": {
          "base_uri": "https://localhost:8080/"
        },
        "id": "eb060103",
        "outputId": "973e474e-98ce-4069-96cf-43681c2c1040"
      },
      "outputs": [
        {
          "data": {
            "text/plain": [
              "id          0\n",
              "title     122\n",
              "author    503\n",
              "text        7\n",
              "dtype: int64"
            ]
          },
          "execution_count": 14,
          "metadata": {},
          "output_type": "execute_result"
        }
      ],
      "source": [
        "test.isnull().sum()"
      ],
      "id": "eb060103"
    },
    {
      "cell_type": "code",
      "execution_count": null,
      "metadata": {
        "id": "683fd3a1"
      },
      "outputs": [],
      "source": [
        "# Replacing the null values with empty string\n",
        "\n",
        "train = train.fillna('')"
      ],
      "id": "683fd3a1"
    },
    {
      "cell_type": "code",
      "execution_count": null,
      "metadata": {
        "colab": {
          "base_uri": "https://localhost:8080/"
        },
        "id": "dWTQTE_CZSEi",
        "outputId": "fbd1212e-4338-42e4-a455-727d19c4f935"
      },
      "outputs": [
        {
          "data": {
            "text/plain": [
              "id        0\n",
              "title     0\n",
              "author    0\n",
              "text      0\n",
              "label     0\n",
              "dtype: int64"
            ]
          },
          "execution_count": 16,
          "metadata": {},
          "output_type": "execute_result"
        }
      ],
      "source": [
        "train.isnull().sum()"
      ],
      "id": "dWTQTE_CZSEi"
    },
    {
      "cell_type": "code",
      "execution_count": null,
      "metadata": {
        "id": "03b3aad2"
      },
      "outputs": [],
      "source": [
        "test = test.fillna('')"
      ],
      "id": "03b3aad2"
    },
    {
      "cell_type": "code",
      "execution_count": null,
      "metadata": {
        "colab": {
          "base_uri": "https://localhost:8080/"
        },
        "id": "mLkgFY9cZYqj",
        "outputId": "9988047a-c210-4194-fe4d-6d7dae871fac"
      },
      "outputs": [
        {
          "data": {
            "text/plain": [
              "id        0\n",
              "title     0\n",
              "author    0\n",
              "text      0\n",
              "dtype: int64"
            ]
          },
          "execution_count": 18,
          "metadata": {},
          "output_type": "execute_result"
        }
      ],
      "source": [
        "test.isnull().sum()"
      ],
      "id": "mLkgFY9cZYqj"
    },
    {
      "cell_type": "code",
      "execution_count": null,
      "metadata": {
        "colab": {
          "base_uri": "https://localhost:8080/"
        },
        "id": "d899d164",
        "outputId": "116c19fb-ee72-45a3-80b0-b09c21c95b3d"
      },
      "outputs": [
        {
          "data": {
            "text/plain": [
              "(996, 143)"
            ]
          },
          "execution_count": 19,
          "metadata": {},
          "output_type": "execute_result"
        }
      ],
      "source": [
        "# Checking duplicate data\n",
        "\n",
        "train.duplicated('title').sum(), test.duplicated('title').sum()"
      ],
      "id": "d899d164"
    },
    {
      "cell_type": "code",
      "execution_count": null,
      "metadata": {
        "id": "10038884"
      },
      "outputs": [],
      "source": [
        "# Dropping duplicates\n",
        "\n",
        "train.drop_duplicates(subset=\"title\",keep='first', ignore_index=True, inplace=True)\n",
        "test.drop_duplicates(subset=\"title\",keep='first', ignore_index=True, inplace=True)"
      ],
      "id": "10038884"
    },
    {
      "cell_type": "code",
      "execution_count": null,
      "metadata": {
        "colab": {
          "base_uri": "https://localhost:8080/"
        },
        "id": "M3cLVoaaGmuP",
        "outputId": "383a6604-0a3a-4d27-b2b1-6c97d51620b9"
      },
      "outputs": [
        {
          "name": "stdout",
          "output_type": "stream",
          "text": [
            "Size of train set:  (19804, 5)\n",
            "Size of test set:  (5057, 4)\n"
          ]
        }
      ],
      "source": [
        "# Print shape \n",
        "\n",
        "print(\"Size of train set: \", train.shape)\n",
        "print(\"Size of test set: \", test.shape)"
      ],
      "id": "M3cLVoaaGmuP"
    },
    {
      "cell_type": "code",
      "execution_count": null,
      "metadata": {
        "colab": {
          "base_uri": "https://localhost:8080/"
        },
        "id": "trDUmTVmH6NM",
        "outputId": "d240b9a4-d56c-4767-f6ac-53b0e059e0c7"
      },
      "outputs": [
        {
          "data": {
            "text/plain": [
              "                                             1896\n",
              "Pam Key                                       243\n",
              "admin                                         180\n",
              "Jerome Hudson                                 166\n",
              "Charlie Spiering                              141\n",
              "                                             ... \n",
              "Bill Federer                                    1\n",
              "Ben Sisario and Joe Coscarelli                  1\n",
              "David L. Kirp                                   1\n",
              "James Andrew Miller                             1\n",
              "Michael J. de la Merced and Rachel Abrams       1\n",
              "Name: author, Length: 3826, dtype: int64"
            ]
          },
          "execution_count": 22,
          "metadata": {},
          "output_type": "execute_result"
        }
      ],
      "source": [
        "# Unique values of authors \n",
        "\n",
        "train.author.value_counts()"
      ],
      "id": "trDUmTVmH6NM"
    },
    {
      "cell_type": "code",
      "execution_count": null,
      "metadata": {
        "colab": {
          "base_uri": "https://localhost:8080/"
        },
        "id": "wSK4ZNJ-R-0L",
        "outputId": "a3d98b33-37cc-4198-eb29-a34eb8a93a81"
      },
      "outputs": [
        {
          "data": {
            "text/plain": [
              "3826"
            ]
          },
          "execution_count": 23,
          "metadata": {},
          "output_type": "execute_result"
        }
      ],
      "source": [
        "train.author.nunique()"
      ],
      "id": "wSK4ZNJ-R-0L"
    },
    {
      "cell_type": "code",
      "execution_count": null,
      "metadata": {
        "colab": {
          "base_uri": "https://localhost:8080/"
        },
        "id": "AQiyue2-Zzfk",
        "outputId": "d95898bc-4e42-42af-ee02-0c696057263a"
      },
      "outputs": [
        {
          "data": {
            "text/plain": [
              "                                                            496\n",
              "Pam Key                                                      65\n",
              "admin                                                        53\n",
              "Jerome Hudson                                                53\n",
              "Charlie Spiering                                             38\n",
              "                                                           ... \n",
              "Ted Loos                                                      1\n",
              "Julie Hirschfeld Davis, Michael D. Shear and Peter Baker      1\n",
              "Maria Afonina                                                 1\n",
              "Brian McNicoll                                                1\n",
              "Teddy Wayne                                                   1\n",
              "Name: author, Length: 1641, dtype: int64"
            ]
          },
          "execution_count": 24,
          "metadata": {},
          "output_type": "execute_result"
        }
      ],
      "source": [
        "test.author.value_counts()"
      ],
      "id": "AQiyue2-Zzfk"
    },
    {
      "cell_type": "code",
      "execution_count": null,
      "metadata": {
        "colab": {
          "base_uri": "https://localhost:8080/"
        },
        "id": "GPtW8T26SG0c",
        "outputId": "50037814-ccdd-4f03-f5ae-8a0c33b6d61c"
      },
      "outputs": [
        {
          "data": {
            "text/plain": [
              "1641"
            ]
          },
          "execution_count": 25,
          "metadata": {},
          "output_type": "execute_result"
        }
      ],
      "source": [
        "test.author.nunique()"
      ],
      "id": "GPtW8T26SG0c"
    },
    {
      "cell_type": "markdown",
      "metadata": {
        "id": "kUHr42knZ1Ym"
      },
      "source": [
        "There are similar authors with multiple articles in the train set and test set. This variable is relevant for prediction"
      ],
      "id": "kUHr42knZ1Ym"
    },
    {
      "cell_type": "markdown",
      "metadata": {
        "id": "ziQYc196akt7"
      },
      "source": [
        "### **Data Preprocessing**"
      ],
      "id": "ziQYc196akt7"
    },
    {
      "cell_type": "code",
      "execution_count": null,
      "metadata": {
        "id": "GfLlW1k0aij8"
      },
      "outputs": [],
      "source": [
        "# Merging the author and title columns\n",
        "\n",
        "train['text'] = train['author'] + ' ' + train['text']"
      ],
      "id": "GfLlW1k0aij8"
    },
    {
      "cell_type": "code",
      "execution_count": null,
      "metadata": {
        "colab": {
          "base_uri": "https://localhost:8080/"
        },
        "id": "7xOSVpAQaigt",
        "outputId": "9a42724a-8616-418b-b51a-209429539de7"
      },
      "outputs": [
        {
          "name": "stdout",
          "output_type": "stream",
          "text": [
            "0        Darrell Lucus House Dem Aide: We Didn’t Even S...\n",
            "1        Daniel J. Flynn Ever get the feeling your life...\n",
            "2        Consortiumnews.com Why the Truth Might Get You...\n",
            "3        Jessica Purkiss Videos 15 Civilians Killed In ...\n",
            "4        Howard Portnoy Print \\nAn Iranian woman has be...\n",
            "                               ...                        \n",
            "19799    Lee Stranahan Donald Trump took to Twitter Fri...\n",
            "19800    Jerome Hudson Rapper T. I. unloaded on black c...\n",
            "19801    Benjamin Hoffman When the Green Bay Packers lo...\n",
            "19802    Michael J. de la Merced and Rachel Abrams The ...\n",
            "19803    Alex Ansary NATO, Russia To Hold Parallel Exer...\n",
            "Name: text, Length: 19804, dtype: object\n"
          ]
        }
      ],
      "source": [
        "print(train['text'])"
      ],
      "id": "7xOSVpAQaigt"
    },
    {
      "cell_type": "code",
      "execution_count": null,
      "metadata": {
        "id": "Q2X43LqWaicA"
      },
      "outputs": [],
      "source": [
        "# Merging the author and test columns on the test set\n",
        "\n",
        "test['text'] = test['author'] + ' ' + test['text']"
      ],
      "id": "Q2X43LqWaicA"
    },
    {
      "cell_type": "code",
      "execution_count": null,
      "metadata": {
        "colab": {
          "base_uri": "https://localhost:8080/"
        },
        "id": "FzV92M2taiZU",
        "outputId": "8df99679-3821-4fab-d0c4-312a9e60399c"
      },
      "outputs": [
        {
          "data": {
            "text/plain": [
              "0    David Streitfeld PALO ALTO, Calif.  —   After ...\n",
              "1     Russian warships ready to strike terrorists n...\n",
              "2    Common Dreams Videos #NoDAPL: Native American ...\n",
              "3    Daniel Victor If at first you don’t succeed, t...\n",
              "4    Truth Broadcast Network 42 mins ago 1 Views 0 ...\n",
              "Name: text, dtype: object"
            ]
          },
          "execution_count": 29,
          "metadata": {},
          "output_type": "execute_result"
        }
      ],
      "source": [
        "test['text'].head()"
      ],
      "id": "FzV92M2taiZU"
    },
    {
      "cell_type": "markdown",
      "metadata": {
        "id": "7h-I_4GjLUXy"
      },
      "source": [
        "##### Lemmatization"
      ],
      "id": "7h-I_4GjLUXy"
    },
    {
      "cell_type": "code",
      "execution_count": null,
      "metadata": {
        "id": "EhXsAPWGaiV5"
      },
      "outputs": [],
      "source": [
        "# This function removes numbers, punctuation marks, converts the text to lowercase and reduces words to their root words\n",
        "\n",
        "lemmatizer = WordNetLemmatizer() # Links words into semantic relations\n",
        "stop_words = list(stopwords.words('english'))\n",
        "\n",
        "# Train data\n",
        "\n",
        "for x in range(len(train)) :\n",
        "    corpus = []\n",
        "    review = train['text'][x]\n",
        "    review = re.sub(r'[^a-zA-Z\\s]', '', review)\n",
        "    review = review.lower()\n",
        "    review = nltk.word_tokenize(review)\n",
        "    for y in review :\n",
        "        if y not in stop_words :\n",
        "            corpus.append(lemmatizer.lemmatize(y))\n",
        "    review = ' '.join(corpus)\n",
        "    train['text'][x] = review      "
      ],
      "id": "EhXsAPWGaiV5"
    },
    {
      "cell_type": "code",
      "execution_count": null,
      "metadata": {
        "colab": {
          "base_uri": "https://localhost:8080/"
        },
        "id": "2yQX-2x2aiS6",
        "outputId": "9d5cb096-4c2e-4e58-9703-1685ef6d263b"
      },
      "outputs": [
        {
          "data": {
            "text/plain": [
              "0    darrell lucus house dem aide didnt even see co...\n",
              "1    daniel j flynn ever get feeling life circle ro...\n",
              "2    consortiumnewscom truth might get fired octobe...\n",
              "3    jessica purkiss video civilian killed single u...\n",
              "4    howard portnoy print iranian woman sentenced s...\n",
              "Name: text, dtype: object"
            ]
          },
          "execution_count": 31,
          "metadata": {},
          "output_type": "execute_result"
        }
      ],
      "source": [
        "train['text'].head()"
      ],
      "id": "2yQX-2x2aiS6"
    },
    {
      "cell_type": "code",
      "execution_count": null,
      "metadata": {
        "id": "kl7BxL9sNrP6"
      },
      "outputs": [],
      "source": [
        "# Lemmatization of the test data \n",
        "\n",
        "for p in range(len(test)) :\n",
        "    corpus = []\n",
        "    review = test['text'][p]\n",
        "    review = re.sub(r'[^a-zA-Z\\s]', '', review)\n",
        "    review = review.lower()\n",
        "    review = nltk.word_tokenize(review)\n",
        "    for y in review :\n",
        "        if y not in stop_words :\n",
        "            corpus.append(lemmatizer.lemmatize(y))\n",
        "    review = ' '.join(corpus)\n",
        "    test['text'][p] = review  \n",
        "\n",
        "P = test['text'] "
      ],
      "id": "kl7BxL9sNrP6"
    },
    {
      "cell_type": "markdown",
      "metadata": {
        "id": "NqV41sLXckbv"
      },
      "source": [
        "##### Vectorization"
      ],
      "id": "NqV41sLXckbv"
    },
    {
      "cell_type": "code",
      "execution_count": null,
      "metadata": {
        "id": "zQ8_YPZ5aiPg"
      },
      "outputs": [],
      "source": [
        "# Defining the predictor and response variables\n",
        "\n",
        "X = train['text'].values\n",
        "Y = train['label'].values"
      ],
      "id": "zQ8_YPZ5aiPg"
    },
    {
      "cell_type": "code",
      "execution_count": null,
      "metadata": {
        "colab": {
          "base_uri": "https://localhost:8080/"
        },
        "id": "cETjSZ0ScjIJ",
        "outputId": "2bfc5a09-5130-407e-8002-97d85c3f6c20"
      },
      "outputs": [
        {
          "name": "stdout",
          "output_type": "stream",
          "text": [
            "  (0, 162755)\t0.050436438406085735\n",
            "  (0, 162635)\t0.009861617799785208\n",
            "  (0, 161420)\t0.045601845019642304\n",
            "  (0, 161408)\t0.07332573083938157\n",
            "  (0, 161276)\t0.038849045670666896\n",
            "  (0, 161203)\t0.013545016522383312\n",
            "  (0, 160469)\t0.06177153005343979\n",
            "  (0, 159373)\t0.02162202849406224\n",
            "  (0, 159160)\t0.017476717419419877\n",
            "  (0, 158926)\t0.012697285153678432\n",
            "  (0, 158812)\t0.03469258113345222\n",
            "  (0, 158692)\t0.06177153005343979\n",
            "  (0, 158399)\t0.012056689289357695\n",
            "  (0, 157202)\t0.029276734044355907\n",
            "  (0, 157171)\t0.0224107029835225\n",
            "  (0, 157106)\t0.0174969098698063\n",
            "  (0, 155791)\t0.02220039859707576\n",
            "  (0, 154024)\t0.0673512572727459\n",
            "  (0, 152871)\t0.03570735890881373\n",
            "  (0, 152534)\t0.01780603703413158\n",
            "  (0, 151369)\t0.041701779861394644\n",
            "  (0, 150537)\t0.011399330875989629\n",
            "  (0, 150511)\t0.0449996206389361\n",
            "  (0, 150408)\t0.05830142943357925\n",
            "  (0, 150406)\t0.07713766157212253\n",
            "  :\t:\n",
            "  (19803, 35151)\t0.03367295518601229\n",
            "  (19803, 34161)\t0.01895484894095927\n",
            "  (19803, 30997)\t0.0489383990770253\n",
            "  (19803, 30961)\t0.06147047108491759\n",
            "  (19803, 29370)\t0.0452749518528876\n",
            "  (19803, 28656)\t0.05242728040168287\n",
            "  (19803, 25152)\t0.04063837923322765\n",
            "  (19803, 24352)\t0.04594116460673714\n",
            "  (19803, 19337)\t0.06169966455079303\n",
            "  (19803, 15394)\t0.04575666914218498\n",
            "  (19803, 13953)\t0.07369420793305304\n",
            "  (19803, 13729)\t0.034347491633980126\n",
            "  (19803, 13441)\t0.031130066538374898\n",
            "  (19803, 11874)\t0.1917681767030918\n",
            "  (19803, 10898)\t0.05364094286407259\n",
            "  (19803, 9864)\t0.027842543925316866\n",
            "  (19803, 9744)\t0.05093757493350708\n",
            "  (19803, 6461)\t0.06462625098824996\n",
            "  (19803, 4396)\t0.035703583224463445\n",
            "  (19803, 4237)\t0.08736928251642814\n",
            "  (19803, 4154)\t0.04301017771001585\n",
            "  (19803, 3728)\t0.04687766296062442\n",
            "  (19803, 2947)\t0.0332838924609985\n",
            "  (19803, 1012)\t0.03555148148582599\n",
            "  (19803, 884)\t0.08030225691667095\n"
          ]
        }
      ],
      "source": [
        "# Converting text into numbers\n",
        "\n",
        "vectorizer = TfidfVectorizer()\n",
        "vectorizer.fit(X)\n",
        "\n",
        "# Train data\n",
        "\n",
        "X = vectorizer.transform(X)\n",
        "\n",
        "print(X)"
      ],
      "id": "cETjSZ0ScjIJ"
    },
    {
      "cell_type": "code",
      "execution_count": null,
      "metadata": {
        "colab": {
          "base_uri": "https://localhost:8080/"
        },
        "id": "v3fXyVoDQbfg",
        "outputId": "a18038e5-471f-4435-d194-f11b7f3b1ca1"
      },
      "outputs": [
        {
          "name": "stdout",
          "output_type": "stream",
          "text": [
            "  (0, 163106)\t0.013134884863498859\n",
            "  (0, 162867)\t0.013574906990888378\n",
            "  (0, 162635)\t0.008385412743798594\n",
            "  (0, 161665)\t0.014768852643262253\n",
            "  (0, 161447)\t0.032804362449606\n",
            "  (0, 161371)\t0.02199892635100618\n",
            "  (0, 161351)\t0.023891660009469646\n",
            "  (0, 161276)\t0.011011218418216638\n",
            "  (0, 161250)\t0.028760561287399122\n",
            "  (0, 161218)\t0.01803080472485452\n",
            "  (0, 161203)\t0.011517436232849076\n",
            "  (0, 160039)\t0.018091440790563386\n",
            "  (0, 160009)\t0.033794099796153186\n",
            "  (0, 159841)\t0.015304272321770793\n",
            "  (0, 159458)\t0.01937955540710635\n",
            "  (0, 159160)\t0.044581779159529655\n",
            "  (0, 158926)\t0.03238981034378117\n",
            "  (0, 158680)\t0.022338931031091868\n",
            "  (0, 158630)\t0.017837764235410048\n",
            "  (0, 158399)\t0.010251899644417577\n",
            "  (0, 158138)\t0.027022408999562233\n",
            "  (0, 157864)\t0.03267929213250047\n",
            "  (0, 157861)\t0.011222468319699063\n",
            "  (0, 157706)\t0.016848268907827178\n",
            "  (0, 157679)\t0.020881548144559937\n",
            "  :\t:\n",
            "  (5056, 6693)\t0.04847160115449645\n",
            "  (5056, 6440)\t0.022676721403006358\n",
            "  (5056, 6191)\t0.022959956730511773\n",
            "  (5056, 6060)\t0.04550093052665265\n",
            "  (5056, 5615)\t0.035108745837130084\n",
            "  (5056, 4933)\t0.014584620198415787\n",
            "  (5056, 4728)\t0.02441878518717645\n",
            "  (5056, 4564)\t0.03254161508045882\n",
            "  (5056, 4558)\t0.03978027544822758\n",
            "  (5056, 4549)\t0.018638951937859746\n",
            "  (5056, 3706)\t0.031437687705799834\n",
            "  (5056, 2916)\t0.022644839230547147\n",
            "  (5056, 2614)\t0.02815566498125582\n",
            "  (5056, 2553)\t0.022525621678684445\n",
            "  (5056, 2483)\t0.01558111010245739\n",
            "  (5056, 2299)\t0.034416388162116125\n",
            "  (5056, 2023)\t0.03819901102941624\n",
            "  (5056, 1842)\t0.028451008055444572\n",
            "  (5056, 1563)\t0.013099347146194026\n",
            "  (5056, 1496)\t0.1137934085575181\n",
            "  (5056, 1408)\t0.021339494052493375\n",
            "  (5056, 1330)\t0.02134572289259687\n",
            "  (5056, 890)\t0.0250058007342807\n",
            "  (5056, 860)\t0.027130811903851384\n",
            "  (5056, 178)\t0.03636360729389668\n"
          ]
        }
      ],
      "source": [
        "# Test data is only transformed\n",
        "\n",
        "P = vectorizer.transform(P) \n",
        "\n",
        "print(P)"
      ],
      "id": "v3fXyVoDQbfg"
    },
    {
      "cell_type": "markdown",
      "metadata": {
        "id": "eIV7EdB4ctIf"
      },
      "source": [
        "### **Data Modeling**"
      ],
      "id": "eIV7EdB4ctIf"
    },
    {
      "cell_type": "code",
      "execution_count": null,
      "metadata": {
        "id": "HxrhuF36csc_"
      },
      "outputs": [],
      "source": [
        "# Split the train to get a validation set\n",
        "\n",
        "x_train, x_valid, y_train, y_valid = train_test_split(X, Y, test_size=0.3, stratify=Y)"
      ],
      "id": "HxrhuF36csc_"
    },
    {
      "cell_type": "markdown",
      "metadata": {
        "id": "BUmDfgD_zxcx"
      },
      "source": [
        "##### Finding base models "
      ],
      "id": "BUmDfgD_zxcx"
    },
    {
      "cell_type": "code",
      "execution_count": null,
      "metadata": {
        "id": "lqzoJuSKcjE9"
      },
      "outputs": [],
      "source": [
        "# Putting models into a dictionary\n",
        "\n",
        "models = {\"Logistic Regression\" : LogisticRegression(),\n",
        "          \"Random Forest\" : RandomForestClassifier(),\n",
        "          \"Linear SVC\" : LinearSVC(),\n",
        "          \"XGBoost Classifier\": XGBClassifier(),\n",
        "          \"Ridge Classifier\" : RidgeClassifier (),\n",
        "          \"SGD Classifier\" : SGDClassifier(),\n",
        "          }\n",
        "          \n",
        "# Function that will fit and score models\n",
        "\n",
        "def fit_and_score(models, x_train,x_valid,y_train,y_valid):\n",
        "    \"\"\"\n",
        "    fits and evaluates given machine learning models\n",
        "    models : a dictionary of different ML models\n",
        "    x_train : training data (no labels)\n",
        "    x_valid : validation data (no labels)\n",
        "    y_train : training labels\n",
        "    y_valid : validation labels\n",
        "    \"\"\"\n",
        "    # Setting up a random seed\n",
        "\n",
        "    random_state=42\n",
        " \n",
        "    # Making a dictionary to keep model scores\n",
        "\n",
        "    model_scores = {}\n",
        "\n",
        "    # Looping through models\n",
        "    \n",
        "    for name, model in models.items():\n",
        "        # Fitting the models to the data\n",
        "        model.fit(x_train, y_train)\n",
        "        # Evaluating the model and appending its score to model_scores\n",
        "        model_scores[name] = model.score(x_valid, y_valid)\n",
        "    return model_scores"
      ],
      "id": "lqzoJuSKcjE9"
    },
    {
      "cell_type": "code",
      "execution_count": null,
      "metadata": {
        "colab": {
          "base_uri": "https://localhost:8080/"
        },
        "id": "ybEU8gsdcjBY",
        "outputId": "a680a47b-cd4b-4dc6-fa69-0f08bfcd19de"
      },
      "outputs": [
        {
          "name": "stdout",
          "output_type": "stream",
          "text": [
            "CPU times: user 2min 25s, sys: 6.96 s, total: 2min 32s\n",
            "Wall time: 2min 27s\n"
          ]
        },
        {
          "data": {
            "text/plain": [
              "{'Logistic Regression': 0.9458094917536183,\n",
              " 'Random Forest': 0.9072702793672164,\n",
              " 'Linear SVC': 0.9623022551329519,\n",
              " 'XGBoost Classifier': 0.9294850218781555,\n",
              " 'Ridge Classifier': 0.9617973746213396,\n",
              " 'SGD Classifier': 0.9580949175361831}"
            ]
          },
          "execution_count": 38,
          "metadata": {},
          "output_type": "execute_result"
        }
      ],
      "source": [
        "%%time\n",
        "scores = fit_and_score(models = models,\n",
        "                      x_train = x_train,\n",
        "                      x_valid = x_valid,\n",
        "                      y_train = y_train,\n",
        "                      y_valid = y_valid)\n",
        "scores"
      ],
      "id": "ybEU8gsdcjBY"
    },
    {
      "cell_type": "markdown",
      "metadata": {
        "id": "1Ncq8G_7dUBI"
      },
      "source": [
        "##### Comparing the models"
      ],
      "id": "1Ncq8G_7dUBI"
    },
    {
      "cell_type": "code",
      "execution_count": null,
      "metadata": {
        "colab": {
          "base_uri": "https://localhost:8080/",
          "height": 353
        },
        "id": "ODeyFYH1ci9v",
        "outputId": "f3bf0a4d-fe7c-4fdf-ed78-74d9196fda07"
      },
      "outputs": [
        {
          "data": {
            "image/png": "[encoded data removed]",
            "text/plain": [
              "<Figure size 432x288 with 1 Axes>"
            ]
          },
          "metadata": {},
          "output_type": "display_data"
        }
      ],
      "source": [
        "# Visual comparison of the models\n",
        "\n",
        "model_compare = pd.DataFrame(scores, index=['Accuracy'])\n",
        "model_compare.T.plot.bar(color= 'firebrick');# Transpose to improve the plot"
      ],
      "id": "ODeyFYH1ci9v"
    },
    {
      "cell_type": "markdown",
      "metadata": {
        "id": "QZ84vi6weo4R"
      },
      "source": [
        "Ridge Classifier and Linear SVC have the highest accuracy scores"
      ],
      "id": "QZ84vi6weo4R"
    },
    {
      "cell_type": "markdown",
      "metadata": {
        "id": "T-R31CaQjKVV"
      },
      "source": [
        "**Hyperparameter Tuning Using Random Search**"
      ],
      "id": "T-R31CaQjKVV"
    },
    {
      "cell_type": "code",
      "execution_count": null,
      "metadata": {
        "colab": {
          "background_save": true
        },
        "id": "3qgr3omYioRy",
        "outputId": "1480821f-bca0-4bec-9a43-6570daa6908f"
      },
      "outputs": [
        {
          "name": "stdout",
          "output_type": "stream",
          "text": [
            "RidgeClassifier validation accuracy: 0.96180\n",
            "LinearSVC validation accuracy: 0.96331\n"
          ]
        }
      ],
      "source": [
        "# RidgeClassifier hyperparameter tuning using randomized search\n",
        "ridge_param_dist = {\n",
        "    'alpha': [0.001, 0.01, 0.1, 1, 10, 100],\n",
        "    'solver': ['auto', 'svd', 'cholesky', 'lsqr', 'sparse_cg', 'sag', 'saga'],\n",
        "    'max_iter': randint(1000, 5000)\n",
        "}\n",
        "\n",
        "ridge_rs = RandomizedSearchCV(RidgeClassifier(), param_distributions=ridge_param_dist, cv=5, n_iter=20, random_state=42)\n",
        "ridge_rs.fit(x_train, y_train)\n",
        "\n",
        "# LinearSVC hyperparameter tuning using randomized search\n",
        "svc_param_dist = {\n",
        "    'C': uniform(0.1, 100),\n",
        "    'loss': ['hinge', 'squared_hinge'],\n",
        "    'penalty': ['l1', 'l2'],\n",
        "}\n",
        "\n",
        "svc_rs = RandomizedSearchCV(LinearSVC(), param_distributions=svc_param_dist, cv=5, n_iter=20, random_state=42)\n",
        "svc_rs.fit(x_train, y_train)\n",
        "\n",
        "# Evaluate models on validation set\n",
        "ridge_acc = accuracy_score(y_valid, ridge_rs.predict(x_valid))\n",
        "svc_acc = accuracy_score(y_valid, svc_rs.predict(x_valid))\n",
        "\n",
        "\n",
        "print('RidgeClassifier validation accuracy: {:.5f}'.format(ridge_acc))\n",
        "print('LinearSVC validation accuracy: {:.5f}'.format(svc_acc))"
      ],
      "id": "3qgr3omYioRy"
    },
    {
      "cell_type": "markdown",
      "metadata": {
        "id": "BV73ZRFy4_mS"
      },
      "source": [
        "Linear SVC has increased its accuracy by 0.001"
      ],
      "id": "BV73ZRFy4_mS"
    },
    {
      "cell_type": "code",
      "source": [],
      "metadata": {
        "id": "1bli98t38FsP"
      },
      "id": "1bli98t38FsP",
      "execution_count": null,
      "outputs": []
    }
  ],
  "metadata": {
    "colab": {
      "collapsed_sections": [
        "mMrPHVI9zBjK",
        "qy7_RScdcEuH",
        "dYh3PhxJI4HS"
      ],
      "provenance": []
    },
    "kernelspec": {
      "display_name": "Python 3 (ipykernel)",
      "language": "python",
      "name": "python3"
    },
    "language_info": {
      "codemirror_mode": {
        "name": "ipython",
        "version": 3
      },
      "file_extension": ".py",
      "mimetype": "text/x-python",
      "name": "python",
      "nbconvert_exporter": "python",
      "pygments_lexer": "ipython3",
      "version": "3.9.7"
    }
  },
  "nbformat": 4,
  "nbformat_minor": 5
}